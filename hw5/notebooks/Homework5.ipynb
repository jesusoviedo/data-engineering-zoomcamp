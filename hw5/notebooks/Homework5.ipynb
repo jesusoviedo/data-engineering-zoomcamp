{
 "cells": [
  {
   "cell_type": "markdown",
   "id": "ad536ed6-a97a-4cd4-aa03-892cf202012a",
   "metadata": {},
   "source": [
    "## Question 1"
   ]
  },
  {
   "cell_type": "code",
   "execution_count": 1,
   "id": "2c067eab-d914-44e9-bb5e-2f6495010da3",
   "metadata": {},
   "outputs": [],
   "source": [
    "import pyspark\n",
    "from pyspark.sql import SparkSession\n",
    "from pyspark.sql import types\n",
    "from pyspark.sql import functions as F"
   ]
  },
  {
   "cell_type": "code",
   "execution_count": 2,
   "id": "b360647b-d951-4a4a-9adf-01bdcfb54f53",
   "metadata": {},
   "outputs": [
    {
     "data": {
      "text/plain": [
       "'3.5.5'"
      ]
     },
     "execution_count": 2,
     "metadata": {},
     "output_type": "execute_result"
    }
   ],
   "source": [
    "pyspark.__version__"
   ]
  },
  {
   "cell_type": "code",
   "execution_count": 3,
   "id": "db72535d-8250-475d-946f-6544d5fac750",
   "metadata": {},
   "outputs": [
    {
     "name": "stderr",
     "output_type": "stream",
     "text": [
      "25/03/06 12:41:49 WARN Utils: Your hostname, LAPTOP-F5VFQF4J resolves to a loopback address: 127.0.1.1; using 172.26.218.55 instead (on interface eth0)\n",
      "25/03/06 12:41:49 WARN Utils: Set SPARK_LOCAL_IP if you need to bind to another address\n",
      "Setting default log level to \"WARN\".\n",
      "To adjust logging level use sc.setLogLevel(newLevel). For SparkR, use setLogLevel(newLevel).\n",
      "25/03/06 12:41:51 WARN NativeCodeLoader: Unable to load native-hadoop library for your platform... using builtin-java classes where applicable\n"
     ]
    }
   ],
   "source": [
    "spark = SparkSession.builder \\\n",
    "    .master(\"local[*]\") \\\n",
    "    .appName(\"homework5\") \\\n",
    "    .getOrCreate()"
   ]
  },
  {
   "cell_type": "code",
   "execution_count": 4,
   "id": "121ee663-ab75-4905-9342-792efff8bb10",
   "metadata": {},
   "outputs": [
    {
     "data": {
      "text/plain": [
       "'3.5.5'"
      ]
     },
     "execution_count": 4,
     "metadata": {},
     "output_type": "execute_result"
    }
   ],
   "source": [
    "spark.version"
   ]
  },
  {
   "cell_type": "markdown",
   "id": "3e19297d-e5ec-4f68-8c29-e72b396683c8",
   "metadata": {},
   "source": [
    "## Question 2"
   ]
  },
  {
   "cell_type": "code",
   "execution_count": 5,
   "id": "beb4386a-f952-49cb-9370-693dec08656e",
   "metadata": {},
   "outputs": [
    {
     "name": "stderr",
     "output_type": "stream",
     "text": [
      "                                                                                "
     ]
    }
   ],
   "source": [
    "df = spark.read \\\n",
    "    .option(\"header\", \"true\") \\\n",
    "    .parquet('../data/tmp/yellow_tripdata_2024-10.parquet')"
   ]
  },
  {
   "cell_type": "code",
   "execution_count": 6,
   "id": "510dd0f5-df88-4210-b032-14af9aa62488",
   "metadata": {},
   "outputs": [
    {
     "name": "stdout",
     "output_type": "stream",
     "text": [
      "root\n",
      " |-- VendorID: integer (nullable = true)\n",
      " |-- tpep_pickup_datetime: timestamp_ntz (nullable = true)\n",
      " |-- tpep_dropoff_datetime: timestamp_ntz (nullable = true)\n",
      " |-- passenger_count: long (nullable = true)\n",
      " |-- trip_distance: double (nullable = true)\n",
      " |-- RatecodeID: long (nullable = true)\n",
      " |-- store_and_fwd_flag: string (nullable = true)\n",
      " |-- PULocationID: integer (nullable = true)\n",
      " |-- DOLocationID: integer (nullable = true)\n",
      " |-- payment_type: long (nullable = true)\n",
      " |-- fare_amount: double (nullable = true)\n",
      " |-- extra: double (nullable = true)\n",
      " |-- mta_tax: double (nullable = true)\n",
      " |-- tip_amount: double (nullable = true)\n",
      " |-- tolls_amount: double (nullable = true)\n",
      " |-- improvement_surcharge: double (nullable = true)\n",
      " |-- total_amount: double (nullable = true)\n",
      " |-- congestion_surcharge: double (nullable = true)\n",
      " |-- Airport_fee: double (nullable = true)\n",
      "\n"
     ]
    }
   ],
   "source": [
    "df.printSchema()"
   ]
  },
  {
   "cell_type": "code",
   "execution_count": 7,
   "id": "56b8fb20-b802-4445-a4c0-3175c1f926cb",
   "metadata": {},
   "outputs": [
    {
     "data": {
      "text/plain": [
       "StructType([StructField('VendorID', IntegerType(), True), StructField('tpep_pickup_datetime', TimestampNTZType(), True), StructField('tpep_dropoff_datetime', TimestampNTZType(), True), StructField('passenger_count', LongType(), True), StructField('trip_distance', DoubleType(), True), StructField('RatecodeID', LongType(), True), StructField('store_and_fwd_flag', StringType(), True), StructField('PULocationID', IntegerType(), True), StructField('DOLocationID', IntegerType(), True), StructField('payment_type', LongType(), True), StructField('fare_amount', DoubleType(), True), StructField('extra', DoubleType(), True), StructField('mta_tax', DoubleType(), True), StructField('tip_amount', DoubleType(), True), StructField('tolls_amount', DoubleType(), True), StructField('improvement_surcharge', DoubleType(), True), StructField('total_amount', DoubleType(), True), StructField('congestion_surcharge', DoubleType(), True), StructField('Airport_fee', DoubleType(), True)])"
      ]
     },
     "execution_count": 7,
     "metadata": {},
     "output_type": "execute_result"
    }
   ],
   "source": [
    "df.schema"
   ]
  },
  {
   "cell_type": "code",
   "execution_count": 8,
   "id": "1a05f5cc-760a-4f86-91d0-c00bf9ec8a1b",
   "metadata": {},
   "outputs": [],
   "source": [
    "schema_tirp_data = types.StructType([\n",
    "    types.StructField('VendorID', types.IntegerType(), True),\n",
    "    types.StructField('tpep_pickup_datetime', types.TimestampType(), True),\n",
    "    types.StructField('tpep_dropoff_datetime', types.TimestampType(), True),\n",
    "    types.StructField('passenger_count', types.LongType(), True),\n",
    "    types.StructField('trip_distance', types.DoubleType(), True),\n",
    "    types.StructField('RatecodeID', types.LongType(), True),\n",
    "    types.StructField('store_and_fwd_flag', types.StringType(), True),\n",
    "    types.StructField('PULocationID', types.IntegerType(), True),\n",
    "    types.StructField('DOLocationID', types.IntegerType(), True),\n",
    "    types.StructField('payment_type', types.LongType(), True),\n",
    "    types.StructField('fare_amount', types.DoubleType(), True),\n",
    "    types.StructField('extra', types.DoubleType(), True),\n",
    "    types.StructField('mta_tax', types.DoubleType(), True),\n",
    "    types.StructField('tip_amount', types.DoubleType(), True),\n",
    "    types.StructField('tolls_amount', types.DoubleType(), True),\n",
    "    types.StructField('improvement_surcharge', types.DoubleType(), True),\n",
    "    types.StructField('total_amount', types.DoubleType(), True),\n",
    "    types.StructField('congestion_surcharge', types.DoubleType(), True),\n",
    "    types.StructField('Airport_fee', types.DoubleType(), True)\n",
    "])"
   ]
  },
  {
   "cell_type": "code",
   "execution_count": 9,
   "id": "cdf2a10b-1cd8-4390-81f9-93693712f631",
   "metadata": {},
   "outputs": [],
   "source": [
    "df = spark.read \\\n",
    "    .option(\"header\", \"true\") \\\n",
    "    .schema(schema_tirp_data) \\\n",
    "    .parquet('../data/tmp/yellow_tripdata_2024-10.parquet')"
   ]
  },
  {
   "cell_type": "code",
   "execution_count": 10,
   "id": "d79e01f0-2f6b-47ba-a79a-59ed8901a152",
   "metadata": {},
   "outputs": [
    {
     "name": "stdout",
     "output_type": "stream",
     "text": [
      "root\n",
      " |-- VendorID: integer (nullable = true)\n",
      " |-- tpep_pickup_datetime: timestamp (nullable = true)\n",
      " |-- tpep_dropoff_datetime: timestamp (nullable = true)\n",
      " |-- passenger_count: long (nullable = true)\n",
      " |-- trip_distance: double (nullable = true)\n",
      " |-- RatecodeID: long (nullable = true)\n",
      " |-- store_and_fwd_flag: string (nullable = true)\n",
      " |-- PULocationID: integer (nullable = true)\n",
      " |-- DOLocationID: integer (nullable = true)\n",
      " |-- payment_type: long (nullable = true)\n",
      " |-- fare_amount: double (nullable = true)\n",
      " |-- extra: double (nullable = true)\n",
      " |-- mta_tax: double (nullable = true)\n",
      " |-- tip_amount: double (nullable = true)\n",
      " |-- tolls_amount: double (nullable = true)\n",
      " |-- improvement_surcharge: double (nullable = true)\n",
      " |-- total_amount: double (nullable = true)\n",
      " |-- congestion_surcharge: double (nullable = true)\n",
      " |-- Airport_fee: double (nullable = true)\n",
      "\n"
     ]
    }
   ],
   "source": [
    "df.printSchema()"
   ]
  },
  {
   "cell_type": "code",
   "execution_count": 11,
   "id": "bee93640-5a5e-46dc-af71-3262579a62da",
   "metadata": {},
   "outputs": [],
   "source": [
    "df = df.repartition(4)"
   ]
  },
  {
   "cell_type": "code",
   "execution_count": 12,
   "id": "a1127c4c-1059-43c6-a5fb-72cbf63dcbf8",
   "metadata": {},
   "outputs": [
    {
     "name": "stderr",
     "output_type": "stream",
     "text": [
      "                                                                                "
     ]
    }
   ],
   "source": [
    "df.write.parquet('../data/tripdata/yellow/2024/10')"
   ]
  },
  {
   "cell_type": "code",
   "execution_count": 13,
   "id": "bda4b040-b850-41f8-872c-fb76d656b1c1",
   "metadata": {},
   "outputs": [
    {
     "name": "stdout",
     "output_type": "stream",
     "text": [
      "total 97M\n",
      "-rw-r--r-- 1 joviedo joviedo   0 Mar  6 12:42 _SUCCESS\n",
      "-rw-r--r-- 1 joviedo joviedo 25M Mar  6 12:42 part-00000-a3753a80-7c3d-4006-bcef-a3ced1b842c3-c000.snappy.parquet\n",
      "-rw-r--r-- 1 joviedo joviedo 25M Mar  6 12:42 part-00001-a3753a80-7c3d-4006-bcef-a3ced1b842c3-c000.snappy.parquet\n",
      "-rw-r--r-- 1 joviedo joviedo 25M Mar  6 12:42 part-00002-a3753a80-7c3d-4006-bcef-a3ced1b842c3-c000.snappy.parquet\n",
      "-rw-r--r-- 1 joviedo joviedo 25M Mar  6 12:42 part-00003-a3753a80-7c3d-4006-bcef-a3ced1b842c3-c000.snappy.parquet\n"
     ]
    }
   ],
   "source": [
    "!ls -lh ../data/tripdata/yellow/2024/10"
   ]
  },
  {
   "cell_type": "markdown",
   "id": "c2362fc3-4670-45c5-b462-99cf8f32d49b",
   "metadata": {},
   "source": [
    "## Question 3"
   ]
  },
  {
   "cell_type": "code",
   "execution_count": 14,
   "id": "109915a8-c46e-4d8e-85ca-f12fa429d243",
   "metadata": {},
   "outputs": [],
   "source": [
    "df = spark.read \\\n",
    "    .option(\"header\", \"true\") \\\n",
    "    .schema(schema_tirp_data) \\\n",
    "    .parquet('../data/tmp/yellow_tripdata_2024-10.parquet')"
   ]
  },
  {
   "cell_type": "code",
   "execution_count": 15,
   "id": "03f45e3c-d801-4ac6-a0b4-c9970e0798a6",
   "metadata": {},
   "outputs": [
    {
     "name": "stdout",
     "output_type": "stream",
     "text": [
      "root\n",
      " |-- VendorID: integer (nullable = true)\n",
      " |-- tpep_pickup_datetime: timestamp (nullable = true)\n",
      " |-- tpep_dropoff_datetime: timestamp (nullable = true)\n",
      " |-- passenger_count: long (nullable = true)\n",
      " |-- trip_distance: double (nullable = true)\n",
      " |-- RatecodeID: long (nullable = true)\n",
      " |-- store_and_fwd_flag: string (nullable = true)\n",
      " |-- PULocationID: integer (nullable = true)\n",
      " |-- DOLocationID: integer (nullable = true)\n",
      " |-- payment_type: long (nullable = true)\n",
      " |-- fare_amount: double (nullable = true)\n",
      " |-- extra: double (nullable = true)\n",
      " |-- mta_tax: double (nullable = true)\n",
      " |-- tip_amount: double (nullable = true)\n",
      " |-- tolls_amount: double (nullable = true)\n",
      " |-- improvement_surcharge: double (nullable = true)\n",
      " |-- total_amount: double (nullable = true)\n",
      " |-- congestion_surcharge: double (nullable = true)\n",
      " |-- Airport_fee: double (nullable = true)\n",
      "\n"
     ]
    }
   ],
   "source": [
    "df.printSchema()"
   ]
  },
  {
   "cell_type": "code",
   "execution_count": 16,
   "id": "4025dc8d-00dc-4e81-b66f-a95834e56a12",
   "metadata": {},
   "outputs": [
    {
     "data": {
      "text/plain": [
       "['VendorID',\n",
       " 'tpep_pickup_datetime',\n",
       " 'tpep_dropoff_datetime',\n",
       " 'passenger_count',\n",
       " 'trip_distance',\n",
       " 'RatecodeID',\n",
       " 'store_and_fwd_flag',\n",
       " 'PULocationID',\n",
       " 'DOLocationID',\n",
       " 'payment_type',\n",
       " 'fare_amount',\n",
       " 'extra',\n",
       " 'mta_tax',\n",
       " 'tip_amount',\n",
       " 'tolls_amount',\n",
       " 'improvement_surcharge',\n",
       " 'total_amount',\n",
       " 'congestion_surcharge',\n",
       " 'Airport_fee']"
      ]
     },
     "execution_count": 16,
     "metadata": {},
     "output_type": "execute_result"
    }
   ],
   "source": [
    "df.columns"
   ]
  },
  {
   "cell_type": "code",
   "execution_count": 43,
   "id": "838a9d0d-5d51-4494-a841-97766ddca527",
   "metadata": {},
   "outputs": [
    {
     "name": "stdout",
     "output_type": "stream",
     "text": [
      "+--------------------+---------------------+---------------+-------------+------------+\n",
      "|tpep_pickup_datetime|tpep_dropoff_datetime|passenger_count|trip_distance|total_amount|\n",
      "+--------------------+---------------------+---------------+-------------+------------+\n",
      "| 2024-09-30 20:30:44|  2024-09-30 20:48:26|              1|          3.0|        24.9|\n",
      "| 2024-09-30 20:12:20|  2024-09-30 20:25:25|              1|          2.2|        23.0|\n",
      "| 2024-09-30 20:04:46|  2024-09-30 20:13:52|              1|          2.7|        22.2|\n",
      "| 2024-09-30 20:12:10|  2024-09-30 20:23:01|              1|          3.1|        21.2|\n",
      "| 2024-09-30 20:30:22|  2024-09-30 20:30:39|              1|          0.0|         8.0|\n",
      "| 2024-09-30 20:31:20|  2024-09-30 20:36:00|              2|         0.97|       14.64|\n",
      "| 2024-09-30 20:42:57|  2024-09-30 20:49:01|              1|          1.3|       15.45|\n",
      "| 2024-09-30 20:59:55|  2024-09-30 21:02:24|              1|          0.5|        12.1|\n",
      "| 2024-09-30 20:00:47|  2024-09-30 20:04:22|              0|          1.1|        15.2|\n",
      "| 2024-09-30 20:17:36|  2024-09-30 20:26:22|              1|          2.2|        19.7|\n",
      "+--------------------+---------------------+---------------+-------------+------------+\n",
      "only showing top 10 rows\n",
      "\n"
     ]
    }
   ],
   "source": [
    "df\\\n",
    ".select('tpep_pickup_datetime', 'tpep_dropoff_datetime', 'passenger_count', 'trip_distance', 'total_amount')\\\n",
    ".show(10)"
   ]
  },
  {
   "cell_type": "code",
   "execution_count": 18,
   "id": "480b2acc-159d-4754-9361-a7018c4a2aef",
   "metadata": {},
   "outputs": [],
   "source": [
    "df_train_15_10_2024 = df.filter((F.year(df.tpep_pickup_datetime) == 2024) & \n",
    "                                (F.month(df.tpep_pickup_datetime) == 10) & \n",
    "                                (F.dayofmonth(df.tpep_pickup_datetime) == 15)\n",
    "                               )"
   ]
  },
  {
   "cell_type": "code",
   "execution_count": 19,
   "id": "975e6c6f-9e2a-4c50-9e9b-c371ae6bd71d",
   "metadata": {},
   "outputs": [
    {
     "name": "stderr",
     "output_type": "stream",
     "text": [
      "[Stage 7:============================================>              (3 + 1) / 4]"
     ]
    },
    {
     "name": "stdout",
     "output_type": "stream",
     "text": [
      "+--------------------+---------------------+---------------+-------------+------------+\n",
      "|tpep_pickup_datetime|tpep_dropoff_datetime|passenger_count|trip_distance|total_amount|\n",
      "+--------------------+---------------------+---------------+-------------+------------+\n",
      "| 2024-10-15 04:31:31|  2024-10-15 04:40:59|              1|         2.24|       20.12|\n",
      "| 2024-10-15 04:52:44|  2024-10-15 05:04:09|              1|         1.32|       19.32|\n",
      "| 2024-10-15 09:54:48|  2024-10-15 10:49:24|              1|        14.61|        92.5|\n",
      "| 2024-10-15 11:58:31|  2024-10-15 12:56:27|              1|        18.82|       80.19|\n",
      "| 2024-10-15 12:25:10|  2024-10-15 13:10:52|              1|         8.93|       81.95|\n",
      "| 2024-10-15 13:20:05|  2024-10-15 13:36:27|              1|         2.78|        23.0|\n",
      "| 2024-10-15 13:17:04|  2024-10-15 13:28:13|              1|         1.36|       16.32|\n",
      "| 2024-10-15 13:38:27|  2024-10-15 13:42:05|              1|         0.52|       11.27|\n",
      "| 2024-10-15 13:59:33|  2024-10-15 14:28:41|              1|         3.38|        32.1|\n",
      "| 2024-10-15 14:43:55|  2024-10-15 15:19:53|              1|         2.89|        42.0|\n",
      "+--------------------+---------------------+---------------+-------------+------------+\n",
      "only showing top 10 rows\n",
      "\n"
     ]
    },
    {
     "name": "stderr",
     "output_type": "stream",
     "text": [
      "                                                                                "
     ]
    }
   ],
   "source": [
    "df_train_15_10_2024\\\n",
    ".select('tpep_pickup_datetime', 'tpep_dropoff_datetime', 'passenger_count', 'trip_distance', 'total_amount')\\\n",
    ".show(10)"
   ]
  },
  {
   "cell_type": "code",
   "execution_count": 20,
   "id": "c93632b1-2f13-468f-a099-98e8a343a114",
   "metadata": {},
   "outputs": [
    {
     "name": "stderr",
     "output_type": "stream",
     "text": [
      "                                                                                "
     ]
    },
    {
     "data": {
      "text/plain": [
       "128811"
      ]
     },
     "execution_count": 20,
     "metadata": {},
     "output_type": "execute_result"
    }
   ],
   "source": [
    "df_train_15_10_2024.count()"
   ]
  },
  {
   "cell_type": "markdown",
   "id": "53680310-dbf3-4c35-a00d-8b5d53bc0710",
   "metadata": {},
   "source": [
    "## Question 4"
   ]
  },
  {
   "cell_type": "code",
   "execution_count": 21,
   "id": "1f2d74d4-e0f2-46fb-83e9-470f6a1a39f8",
   "metadata": {},
   "outputs": [],
   "source": [
    "df = df \\\n",
    ".withColumn('duration_in_hours', (F.col('tpep_dropoff_datetime').cast('long') - F.col('tpep_pickup_datetime').cast('long')) / 3600)"
   ]
  },
  {
   "cell_type": "code",
   "execution_count": 22,
   "id": "6535efc9-eab6-4c0a-862e-2554d11d2edd",
   "metadata": {},
   "outputs": [
    {
     "data": {
      "text/plain": [
       "['VendorID',\n",
       " 'tpep_pickup_datetime',\n",
       " 'tpep_dropoff_datetime',\n",
       " 'passenger_count',\n",
       " 'trip_distance',\n",
       " 'RatecodeID',\n",
       " 'store_and_fwd_flag',\n",
       " 'PULocationID',\n",
       " 'DOLocationID',\n",
       " 'payment_type',\n",
       " 'fare_amount',\n",
       " 'extra',\n",
       " 'mta_tax',\n",
       " 'tip_amount',\n",
       " 'tolls_amount',\n",
       " 'improvement_surcharge',\n",
       " 'total_amount',\n",
       " 'congestion_surcharge',\n",
       " 'Airport_fee',\n",
       " 'duration_in_hours']"
      ]
     },
     "execution_count": 22,
     "metadata": {},
     "output_type": "execute_result"
    }
   ],
   "source": [
    "df.columns"
   ]
  },
  {
   "cell_type": "code",
   "execution_count": 23,
   "id": "3f0c5933-3cd3-4e3b-a7c0-f66b2cdd4cb5",
   "metadata": {},
   "outputs": [],
   "source": [
    "df.createOrReplaceTempView('trips_yellow_data')"
   ]
  },
  {
   "cell_type": "code",
   "execution_count": 24,
   "id": "a0e21c7c-f58e-4a74-841f-8e7e5f36d781",
   "metadata": {},
   "outputs": [
    {
     "name": "stdout",
     "output_type": "stream",
     "text": [
      "+------------+\n",
      "|max_duration|\n",
      "+------------+\n",
      "|      162.62|\n",
      "+------------+\n",
      "\n"
     ]
    }
   ],
   "source": [
    "spark.sql(\"\"\"\n",
    "SELECT \n",
    "    ROUND(MAX(duration_in_hours),2) AS max_duration \n",
    "FROM trips_yellow_data\n",
    "\"\"\").show()"
   ]
  },
  {
   "cell_type": "markdown",
   "id": "8bf05e15-5274-44f7-9494-c57f70c6de86",
   "metadata": {},
   "source": [
    "## Question 5"
   ]
  },
  {
   "attachments": {
    "48cc8973-2c27-494b-ae86-4b3fe5353a4c.png": {
     "image/png": "[encoded data removed]"
    }
   },
   "cell_type": "markdown",
   "id": "1b6d7006-c207-425b-85e1-32a602b2ce17",
   "metadata": {},
   "source": [
    "![image.png](attachment:48cc8973-2c27-494b-ae86-4b3fe5353a4c.png)"
   ]
  },
  {
   "cell_type": "markdown",
   "id": "f10a7c1d-5503-4a5d-81b2-cc326780fd84",
   "metadata": {},
   "source": [
    "## Question 6"
   ]
  },
  {
   "cell_type": "code",
   "execution_count": 26,
   "id": "53dc24ff-e4d1-4288-978b-71a3acc51fa2",
   "metadata": {},
   "outputs": [],
   "source": [
    "df_zone = spark.read \\\n",
    "    .option(\"header\", \"true\") \\\n",
    "    .csv('../data/tmp/taxi_zone_lookup.csv')"
   ]
  },
  {
   "cell_type": "code",
   "execution_count": 29,
   "id": "67a35c5f-88b2-4239-954d-7e5070b9708e",
   "metadata": {},
   "outputs": [
    {
     "name": "stdout",
     "output_type": "stream",
     "text": [
      "+----------+-------------+--------------------+------------+\n",
      "|LocationID|      Borough|                Zone|service_zone|\n",
      "+----------+-------------+--------------------+------------+\n",
      "|         1|          EWR|      Newark Airport|         EWR|\n",
      "|         2|       Queens|         Jamaica Bay|   Boro Zone|\n",
      "|         3|        Bronx|Allerton/Pelham G...|   Boro Zone|\n",
      "|         4|    Manhattan|       Alphabet City| Yellow Zone|\n",
      "|         5|Staten Island|       Arden Heights|   Boro Zone|\n",
      "|         6|Staten Island|Arrochar/Fort Wad...|   Boro Zone|\n",
      "|         7|       Queens|             Astoria|   Boro Zone|\n",
      "|         8|       Queens|        Astoria Park|   Boro Zone|\n",
      "|         9|       Queens|          Auburndale|   Boro Zone|\n",
      "|        10|       Queens|        Baisley Park|   Boro Zone|\n",
      "+----------+-------------+--------------------+------------+\n",
      "only showing top 10 rows\n",
      "\n"
     ]
    }
   ],
   "source": [
    "df_zone.show(10)"
   ]
  },
  {
   "cell_type": "code",
   "execution_count": 27,
   "id": "05a96a87-0479-4a54-ae5d-62f5d4530f3a",
   "metadata": {},
   "outputs": [
    {
     "name": "stdout",
     "output_type": "stream",
     "text": [
      "root\n",
      " |-- LocationID: string (nullable = true)\n",
      " |-- Borough: string (nullable = true)\n",
      " |-- Zone: string (nullable = true)\n",
      " |-- service_zone: string (nullable = true)\n",
      "\n"
     ]
    }
   ],
   "source": [
    "df_zone.printSchema()"
   ]
  },
  {
   "cell_type": "code",
   "execution_count": 30,
   "id": "1af2c8c7-fa2f-491d-80c2-60b37a4d4a3f",
   "metadata": {},
   "outputs": [
    {
     "data": {
      "text/plain": [
       "StructType([StructField('LocationID', StringType(), True), StructField('Borough', StringType(), True), StructField('Zone', StringType(), True), StructField('service_zone', StringType(), True)])"
      ]
     },
     "execution_count": 30,
     "metadata": {},
     "output_type": "execute_result"
    }
   ],
   "source": [
    "df_zone.schema"
   ]
  },
  {
   "cell_type": "code",
   "execution_count": 31,
   "id": "1ffd93c1-fd72-4514-9989-447a90ab17a7",
   "metadata": {},
   "outputs": [],
   "source": [
    "schema_tirp_zone = types.StructType([\n",
    "types.StructField('LocationID', types.IntegerType(), True),\n",
    "types.StructField('Borough', types.StringType(), True),\n",
    "types.StructField('Zone', types.StringType(), True),\n",
    "types.StructField('service_zone', types.StringType(), True)\n",
    "])"
   ]
  },
  {
   "cell_type": "code",
   "execution_count": 32,
   "id": "358eb33c-9da5-439e-bb84-105d3e50018d",
   "metadata": {},
   "outputs": [],
   "source": [
    "df_zone = spark.read \\\n",
    "    .option(\"header\", \"true\") \\\n",
    "    .schema(schema_tirp_zone) \\\n",
    "    .csv('../data/tmp/taxi_zone_lookup.csv')"
   ]
  },
  {
   "cell_type": "code",
   "execution_count": 33,
   "id": "9d1d4d2b-8d0c-45eb-8394-be30f1eae8d2",
   "metadata": {},
   "outputs": [
    {
     "name": "stdout",
     "output_type": "stream",
     "text": [
      "root\n",
      " |-- LocationID: integer (nullable = true)\n",
      " |-- Borough: string (nullable = true)\n",
      " |-- Zone: string (nullable = true)\n",
      " |-- service_zone: string (nullable = true)\n",
      "\n"
     ]
    }
   ],
   "source": [
    "df_zone.printSchema()"
   ]
  },
  {
   "cell_type": "code",
   "execution_count": 34,
   "id": "6c8015e1-9795-4da2-8544-df21099b2c4a",
   "metadata": {},
   "outputs": [],
   "source": [
    "df_zone.createOrReplaceTempView('trips_zone')"
   ]
  },
  {
   "cell_type": "code",
   "execution_count": 42,
   "id": "566c86b2-5ada-4008-bfe3-fd1c241f4b11",
   "metadata": {},
   "outputs": [
    {
     "name": "stderr",
     "output_type": "stream",
     "text": [
      "[Stage 38:=============================>                            (4 + 4) / 8]"
     ]
    },
    {
     "name": "stdout",
     "output_type": "stream",
     "text": [
      "+------------------+---------------------------------------------+------------------------+\n",
      "|location_id_pickup|description_zone                             |count_location_id_pickup|\n",
      "+------------------+---------------------------------------------+------------------------+\n",
      "|105               |Governor's Island/Ellis Island/Liberty Island|1                       |\n",
      "|5                 |Arden Heights                                |2                       |\n",
      "|199               |Rikers Island                                |2                       |\n",
      "|2                 |Jamaica Bay                                  |3                       |\n",
      "|111               |Green-Wood Cemetery                          |3                       |\n",
      "|245               |West Brighton                                |4                       |\n",
      "|84                |Eltingville/Annadale/Prince's Bay            |4                       |\n",
      "|204               |Rossville/Woodrow                            |4                       |\n",
      "|44                |Charleston/Tottenville                       |4                       |\n",
      "|187               |Port Richmond                                |4                       |\n",
      "+------------------+---------------------------------------------+------------------------+\n",
      "\n"
     ]
    },
    {
     "name": "stderr",
     "output_type": "stream",
     "text": [
      "                                                                                "
     ]
    }
   ],
   "source": [
    "spark.sql(\"\"\"\n",
    "SELECT \n",
    "    yellow.PULocationID AS location_id_pickup,\n",
    "    zone.Zone AS description_zone,\n",
    "    COUNT(*) AS count_location_id_pickup\n",
    "FROM trips_yellow_data AS yellow\n",
    "INNER JOIN trips_zone AS zone ON yellow.PULocationID == zone.LocationID\n",
    "GROUP BY yellow.PULocationID, zone.Zone\n",
    "ORDER BY count_location_id_pickup ASC\n",
    "LIMIT 10\n",
    "\"\"\").show(truncate=False)"
   ]
  }
 ],
 "metadata": {
  "kernelspec": {
   "display_name": "Python 3 (ipykernel)",
   "language": "python",
   "name": "python3"
  },
  "language_info": {
   "codemirror_mode": {
    "name": "ipython",
    "version": 3
   },
   "file_extension": ".py",
   "mimetype": "text/x-python",
   "name": "python",
   "nbconvert_exporter": "python",
   "pygments_lexer": "ipython3",
   "version": "3.12.9"
  }
 },
 "nbformat": 4,
 "nbformat_minor": 5
}
