{
 "cells": [
  {
   "cell_type": "markdown",
   "id": "83529f5e-8528-474d-a701-8da1a0d86488",
   "metadata": {},
   "source": [
    "# Questions"
   ]
  },
  {
   "cell_type": "markdown",
   "id": "e5f112cb-9c77-42b4-a258-da56280c85ad",
   "metadata": {},
   "source": [
    "## Question 1: dlt Version"
   ]
  },
  {
   "cell_type": "code",
   "execution_count": 1,
   "id": "7fdec622-78d4-459b-9081-6a49830130c0",
   "metadata": {},
   "outputs": [
    {
     "name": "stdout",
     "output_type": "stream",
     "text": [
      "Requirement already satisfied: dlt[duckdb] in /home/joviedo/.local/share/virtualenvs/hwk--uNuuoIB/lib/python3.12/site-packages (1.6.1)\n",
      "Requirement already satisfied: PyYAML>=5.4.1 in /home/joviedo/.local/share/virtualenvs/hwk--uNuuoIB/lib/python3.12/site-packages (from dlt[duckdb]) (6.0.2)\n",
      "Requirement already satisfied: click>=7.1 in /home/joviedo/.local/share/virtualenvs/hwk--uNuuoIB/lib/python3.12/site-packages (from dlt[duckdb]) (8.1.8)\n",
      "Requirement already satisfied: duckdb>=0.9 in /home/joviedo/.local/share/virtualenvs/hwk--uNuuoIB/lib/python3.12/site-packages (from dlt[duckdb]) (1.2.0)\n",
      "Requirement already satisfied: fsspec>=2022.4.0 in /home/joviedo/.local/share/virtualenvs/hwk--uNuuoIB/lib/python3.12/site-packages (from dlt[duckdb]) (2025.2.0)\n",
      "Requirement already satisfied: gitpython>=3.1.29 in /home/joviedo/.local/share/virtualenvs/hwk--uNuuoIB/lib/python3.12/site-packages (from dlt[duckdb]) (3.1.44)\n",
      "Requirement already satisfied: giturlparse>=0.10.0 in /home/joviedo/.local/share/virtualenvs/hwk--uNuuoIB/lib/python3.12/site-packages (from dlt[duckdb]) (0.12.0)\n",
      "Requirement already satisfied: hexbytes>=0.2.2 in /home/joviedo/.local/share/virtualenvs/hwk--uNuuoIB/lib/python3.12/site-packages (from dlt[duckdb]) (1.3.0)\n",
      "Requirement already satisfied: humanize>=4.4.0 in /home/joviedo/.local/share/virtualenvs/hwk--uNuuoIB/lib/python3.12/site-packages (from dlt[duckdb]) (4.12.0)\n",
      "Requirement already satisfied: jsonpath-ng>=1.5.3 in /home/joviedo/.local/share/virtualenvs/hwk--uNuuoIB/lib/python3.12/site-packages (from dlt[duckdb]) (1.7.0)\n",
      "Requirement already satisfied: makefun>=1.15.0 in /home/joviedo/.local/share/virtualenvs/hwk--uNuuoIB/lib/python3.12/site-packages (from dlt[duckdb]) (1.15.6)\n",
      "Requirement already satisfied: orjson!=3.10.1,!=3.9.11,!=3.9.12,!=3.9.13,!=3.9.14,<4,>=3.6.7 in /home/joviedo/.local/share/virtualenvs/hwk--uNuuoIB/lib/python3.12/site-packages (from dlt[duckdb]) (3.10.15)\n",
      "Requirement already satisfied: packaging>=21.1 in /home/joviedo/.local/share/virtualenvs/hwk--uNuuoIB/lib/python3.12/site-packages (from dlt[duckdb]) (24.2)\n",
      "Requirement already satisfied: pathvalidate>=2.5.2 in /home/joviedo/.local/share/virtualenvs/hwk--uNuuoIB/lib/python3.12/site-packages (from dlt[duckdb]) (3.2.3)\n",
      "Requirement already satisfied: pendulum>=2.1.2 in /home/joviedo/.local/share/virtualenvs/hwk--uNuuoIB/lib/python3.12/site-packages (from dlt[duckdb]) (3.0.0)\n",
      "Requirement already satisfied: pluggy>=1.3.0 in /home/joviedo/.local/share/virtualenvs/hwk--uNuuoIB/lib/python3.12/site-packages (from dlt[duckdb]) (1.5.0)\n",
      "Requirement already satisfied: pytz>=2022.6 in /home/joviedo/.local/share/virtualenvs/hwk--uNuuoIB/lib/python3.12/site-packages (from dlt[duckdb]) (2025.1)\n",
      "Requirement already satisfied: requests>=2.26.0 in /home/joviedo/.local/share/virtualenvs/hwk--uNuuoIB/lib/python3.12/site-packages (from dlt[duckdb]) (2.32.3)\n",
      "Requirement already satisfied: requirements-parser>=0.5.0 in /home/joviedo/.local/share/virtualenvs/hwk--uNuuoIB/lib/python3.12/site-packages (from dlt[duckdb]) (0.11.0)\n",
      "Requirement already satisfied: rich-argparse<2.0.0,>=1.6.0 in /home/joviedo/.local/share/virtualenvs/hwk--uNuuoIB/lib/python3.12/site-packages (from dlt[duckdb]) (1.7.0)\n",
      "Requirement already satisfied: semver>=3.0.0 in /home/joviedo/.local/share/virtualenvs/hwk--uNuuoIB/lib/python3.12/site-packages (from dlt[duckdb]) (3.0.4)\n",
      "Requirement already satisfied: setuptools>=65.6.0 in /home/joviedo/.local/share/virtualenvs/hwk--uNuuoIB/lib/python3.12/site-packages (from dlt[duckdb]) (75.8.0)\n",
      "Requirement already satisfied: simplejson>=3.17.5 in /home/joviedo/.local/share/virtualenvs/hwk--uNuuoIB/lib/python3.12/site-packages (from dlt[duckdb]) (3.20.1)\n",
      "Requirement already satisfied: tenacity>=8.0.2 in /home/joviedo/.local/share/virtualenvs/hwk--uNuuoIB/lib/python3.12/site-packages (from dlt[duckdb]) (9.0.0)\n",
      "Requirement already satisfied: tomlkit>=0.11.3 in /home/joviedo/.local/share/virtualenvs/hwk--uNuuoIB/lib/python3.12/site-packages (from dlt[duckdb]) (0.13.2)\n",
      "Requirement already satisfied: typing-extensions>=4.8.0 in /home/joviedo/.local/share/virtualenvs/hwk--uNuuoIB/lib/python3.12/site-packages (from dlt[duckdb]) (4.12.2)\n",
      "Requirement already satisfied: tzdata>=2022.1 in /home/joviedo/.local/share/virtualenvs/hwk--uNuuoIB/lib/python3.12/site-packages (from dlt[duckdb]) (2025.1)\n",
      "Requirement already satisfied: gitdb<5,>=4.0.1 in /home/joviedo/.local/share/virtualenvs/hwk--uNuuoIB/lib/python3.12/site-packages (from gitpython>=3.1.29->dlt[duckdb]) (4.0.12)\n",
      "Requirement already satisfied: ply in /home/joviedo/.local/share/virtualenvs/hwk--uNuuoIB/lib/python3.12/site-packages (from jsonpath-ng>=1.5.3->dlt[duckdb]) (3.11)\n",
      "Requirement already satisfied: python-dateutil>=2.6 in /home/joviedo/.local/share/virtualenvs/hwk--uNuuoIB/lib/python3.12/site-packages (from pendulum>=2.1.2->dlt[duckdb]) (2.9.0.post0)\n",
      "Requirement already satisfied: time-machine>=2.6.0 in /home/joviedo/.local/share/virtualenvs/hwk--uNuuoIB/lib/python3.12/site-packages (from pendulum>=2.1.2->dlt[duckdb]) (2.16.0)\n",
      "Requirement already satisfied: charset-normalizer<4,>=2 in /home/joviedo/.local/share/virtualenvs/hwk--uNuuoIB/lib/python3.12/site-packages (from requests>=2.26.0->dlt[duckdb]) (3.4.1)\n",
      "Requirement already satisfied: idna<4,>=2.5 in /home/joviedo/.local/share/virtualenvs/hwk--uNuuoIB/lib/python3.12/site-packages (from requests>=2.26.0->dlt[duckdb]) (3.10)\n",
      "Requirement already satisfied: urllib3<3,>=1.21.1 in /home/joviedo/.local/share/virtualenvs/hwk--uNuuoIB/lib/python3.12/site-packages (from requests>=2.26.0->dlt[duckdb]) (2.3.0)\n",
      "Requirement already satisfied: certifi>=2017.4.17 in /home/joviedo/.local/share/virtualenvs/hwk--uNuuoIB/lib/python3.12/site-packages (from requests>=2.26.0->dlt[duckdb]) (2025.1.31)\n",
      "Requirement already satisfied: types-setuptools>=69.1.0 in /home/joviedo/.local/share/virtualenvs/hwk--uNuuoIB/lib/python3.12/site-packages (from requirements-parser>=0.5.0->dlt[duckdb]) (75.8.0.20250210)\n",
      "Requirement already satisfied: rich>=11.0.0 in /home/joviedo/.local/share/virtualenvs/hwk--uNuuoIB/lib/python3.12/site-packages (from rich-argparse<2.0.0,>=1.6.0->dlt[duckdb]) (13.9.4)\n",
      "Requirement already satisfied: smmap<6,>=3.0.1 in /home/joviedo/.local/share/virtualenvs/hwk--uNuuoIB/lib/python3.12/site-packages (from gitdb<5,>=4.0.1->gitpython>=3.1.29->dlt[duckdb]) (5.0.2)\n",
      "Requirement already satisfied: six>=1.5 in /home/joviedo/.local/share/virtualenvs/hwk--uNuuoIB/lib/python3.12/site-packages (from python-dateutil>=2.6->pendulum>=2.1.2->dlt[duckdb]) (1.17.0)\n",
      "Requirement already satisfied: markdown-it-py>=2.2.0 in /home/joviedo/.local/share/virtualenvs/hwk--uNuuoIB/lib/python3.12/site-packages (from rich>=11.0.0->rich-argparse<2.0.0,>=1.6.0->dlt[duckdb]) (3.0.0)\n",
      "Requirement already satisfied: pygments<3.0.0,>=2.13.0 in /home/joviedo/.local/share/virtualenvs/hwk--uNuuoIB/lib/python3.12/site-packages (from rich>=11.0.0->rich-argparse<2.0.0,>=1.6.0->dlt[duckdb]) (2.19.1)\n",
      "Requirement already satisfied: mdurl~=0.1 in /home/joviedo/.local/share/virtualenvs/hwk--uNuuoIB/lib/python3.12/site-packages (from markdown-it-py>=2.2.0->rich>=11.0.0->rich-argparse<2.0.0,>=1.6.0->dlt[duckdb]) (0.1.2)\n"
     ]
    }
   ],
   "source": [
    "!pip install dlt[duckdb]"
   ]
  },
  {
   "cell_type": "code",
   "execution_count": 2,
   "id": "69ea9dbb-979e-48e6-949c-c674fd58e071",
   "metadata": {},
   "outputs": [],
   "source": [
    "import dlt"
   ]
  },
  {
   "cell_type": "code",
   "execution_count": 3,
   "id": "1a75b3a5-865a-494c-bf5b-a30cd0b59bc0",
   "metadata": {},
   "outputs": [
    {
     "name": "stdout",
     "output_type": "stream",
     "text": [
      "dlt version:1.6.1\n"
     ]
    }
   ],
   "source": [
    "print(f\"dlt version:{dlt.__version__}\")"
   ]
  },
  {
   "cell_type": "markdown",
   "id": "05c147db-f44c-4139-a31a-f0c96657dc0c",
   "metadata": {},
   "source": [
    "## Question 2: Define & Run the Pipeline (NYC Taxi API)"
   ]
  },
  {
   "cell_type": "code",
   "execution_count": 11,
   "id": "323b0f0c-6f14-41db-bca4-907aa7c1ee3b",
   "metadata": {},
   "outputs": [],
   "source": [
    "import dlt\n",
    "from dlt.sources.helpers.rest_client import RESTClient\n",
    "from dlt.sources.helpers.rest_client.paginators import PageNumberPaginator\n",
    "\n",
    "\n",
    "# your code is here\n",
    "@dlt.resource(name=\"rides\")\n",
    "def ny_taxi():\n",
    "    client = RESTClient(\n",
    "        base_url=\"https://us-central1-dlthub-analytics.cloudfunctions.net\",\n",
    "        paginator=PageNumberPaginator(\n",
    "            base_page=1,\n",
    "            total_path=None\n",
    "        )\n",
    "    )\n",
    "\n",
    "    for page in client.paginate(\"data_engineering_zoomcamp_api\"):\n",
    "        yield page\n",
    "        \n",
    "\n",
    "pipeline = dlt.pipeline(\n",
    "    pipeline_name=\"ny_taxi_pipeline\",\n",
    "    destination=\"duckdb\",\n",
    "    dataset_name=\"ny_taxi_data\"\n",
    ")"
   ]
  },
  {
   "cell_type": "code",
   "execution_count": 12,
   "id": "83dbb315-900f-4e0e-961d-28da25f1d8eb",
   "metadata": {},
   "outputs": [
    {
     "name": "stdout",
     "output_type": "stream",
     "text": [
      "Pipeline ny_taxi_pipeline load step completed in 2.50 seconds\n",
      "1 load package(s) were loaded to destination duckdb and into dataset ny_taxi_data\n",
      "The duckdb destination used duckdb:////home/joviedo/data-engineering-zoomcamp/hwk/notebooks/ny_taxi_pipeline.duckdb location to store data\n",
      "Load package 1739645056.0932279 is LOADED and contains no failed jobs\n"
     ]
    }
   ],
   "source": [
    "load_info = pipeline.run(ny_taxi, write_disposition=\"replace\")\n",
    "print(load_info)"
   ]
  },
  {
   "cell_type": "code",
   "execution_count": 6,
   "id": "698de874-ad32-4182-a40b-a04516e26a14",
   "metadata": {},
   "outputs": [
    {
     "data": {
      "text/html": [
       "<div>\n",
       "<style scoped>\n",
       "    .dataframe tbody tr th:only-of-type {\n",
       "        vertical-align: middle;\n",
       "    }\n",
       "\n",
       "    .dataframe tbody tr th {\n",
       "        vertical-align: top;\n",
       "    }\n",
       "\n",
       "    .dataframe thead th {\n",
       "        text-align: right;\n",
       "    }\n",
       "</style>\n",
       "<table border=\"1\" class=\"dataframe\">\n",
       "  <thead>\n",
       "    <tr style=\"text-align: right;\">\n",
       "      <th></th>\n",
       "      <th>database</th>\n",
       "      <th>schema</th>\n",
       "      <th>name</th>\n",
       "      <th>column_names</th>\n",
       "      <th>column_types</th>\n",
       "      <th>temporary</th>\n",
       "    </tr>\n",
       "  </thead>\n",
       "  <tbody>\n",
       "    <tr>\n",
       "      <th>0</th>\n",
       "      <td>ny_taxi_pipeline</td>\n",
       "      <td>ny_taxi_data</td>\n",
       "      <td>_dlt_loads</td>\n",
       "      <td>[load_id, schema_name, status, inserted_at, sc...</td>\n",
       "      <td>[VARCHAR, VARCHAR, BIGINT, TIMESTAMP WITH TIME...</td>\n",
       "      <td>False</td>\n",
       "    </tr>\n",
       "    <tr>\n",
       "      <th>1</th>\n",
       "      <td>ny_taxi_pipeline</td>\n",
       "      <td>ny_taxi_data</td>\n",
       "      <td>_dlt_pipeline_state</td>\n",
       "      <td>[version, engine_version, pipeline_name, state...</td>\n",
       "      <td>[BIGINT, BIGINT, VARCHAR, VARCHAR, TIMESTAMP W...</td>\n",
       "      <td>False</td>\n",
       "    </tr>\n",
       "    <tr>\n",
       "      <th>2</th>\n",
       "      <td>ny_taxi_pipeline</td>\n",
       "      <td>ny_taxi_data</td>\n",
       "      <td>_dlt_version</td>\n",
       "      <td>[version, engine_version, inserted_at, schema_...</td>\n",
       "      <td>[BIGINT, BIGINT, TIMESTAMP WITH TIME ZONE, VAR...</td>\n",
       "      <td>False</td>\n",
       "    </tr>\n",
       "    <tr>\n",
       "      <th>3</th>\n",
       "      <td>ny_taxi_pipeline</td>\n",
       "      <td>ny_taxi_data</td>\n",
       "      <td>rides</td>\n",
       "      <td>[end_lat, end_lon, fare_amt, passenger_count, ...</td>\n",
       "      <td>[DOUBLE, DOUBLE, DOUBLE, BIGINT, VARCHAR, DOUB...</td>\n",
       "      <td>False</td>\n",
       "    </tr>\n",
       "  </tbody>\n",
       "</table>\n",
       "</div>"
      ],
      "text/plain": [
       "           database        schema                 name  \\\n",
       "0  ny_taxi_pipeline  ny_taxi_data           _dlt_loads   \n",
       "1  ny_taxi_pipeline  ny_taxi_data  _dlt_pipeline_state   \n",
       "2  ny_taxi_pipeline  ny_taxi_data         _dlt_version   \n",
       "3  ny_taxi_pipeline  ny_taxi_data                rides   \n",
       "\n",
       "                                        column_names  \\\n",
       "0  [load_id, schema_name, status, inserted_at, sc...   \n",
       "1  [version, engine_version, pipeline_name, state...   \n",
       "2  [version, engine_version, inserted_at, schema_...   \n",
       "3  [end_lat, end_lon, fare_amt, passenger_count, ...   \n",
       "\n",
       "                                        column_types  temporary  \n",
       "0  [VARCHAR, VARCHAR, BIGINT, TIMESTAMP WITH TIME...      False  \n",
       "1  [BIGINT, BIGINT, VARCHAR, VARCHAR, TIMESTAMP W...      False  \n",
       "2  [BIGINT, BIGINT, TIMESTAMP WITH TIME ZONE, VAR...      False  \n",
       "3  [DOUBLE, DOUBLE, DOUBLE, BIGINT, VARCHAR, DOUB...      False  "
      ]
     },
     "execution_count": 6,
     "metadata": {},
     "output_type": "execute_result"
    }
   ],
   "source": [
    "import duckdb\n",
    "\n",
    "# Connect to the DuckDB database\n",
    "conn = duckdb.connect(f\"{pipeline.pipeline_name}.duckdb\")\n",
    "\n",
    "# Set search path to the dataset\n",
    "conn.sql(f\"SET search_path = '{pipeline.dataset_name}'\")\n",
    "\n",
    "# Describe the dataset\n",
    "conn.sql(\"DESCRIBE\").df()\n"
   ]
  },
  {
   "cell_type": "markdown",
   "id": "283760bd-ff98-44e6-a030-b6ee23206f26",
   "metadata": {},
   "source": [
    "## Question 3: Explore the loaded data"
   ]
  },
  {
   "cell_type": "code",
   "execution_count": 7,
   "id": "9405f16f-f5db-4652-b593-ad2dff3e6eba",
   "metadata": {},
   "outputs": [
    {
     "data": {
      "text/html": [
       "<div>\n",
       "<style scoped>\n",
       "    .dataframe tbody tr th:only-of-type {\n",
       "        vertical-align: middle;\n",
       "    }\n",
       "\n",
       "    .dataframe tbody tr th {\n",
       "        vertical-align: top;\n",
       "    }\n",
       "\n",
       "    .dataframe thead th {\n",
       "        text-align: right;\n",
       "    }\n",
       "</style>\n",
       "<table border=\"1\" class=\"dataframe\">\n",
       "  <thead>\n",
       "    <tr style=\"text-align: right;\">\n",
       "      <th></th>\n",
       "      <th>end_lat</th>\n",
       "      <th>end_lon</th>\n",
       "      <th>fare_amt</th>\n",
       "      <th>passenger_count</th>\n",
       "      <th>payment_type</th>\n",
       "      <th>start_lat</th>\n",
       "      <th>start_lon</th>\n",
       "      <th>tip_amt</th>\n",
       "      <th>tolls_amt</th>\n",
       "      <th>total_amt</th>\n",
       "      <th>trip_distance</th>\n",
       "      <th>trip_dropoff_date_time</th>\n",
       "      <th>trip_pickup_date_time</th>\n",
       "      <th>surcharge</th>\n",
       "      <th>vendor_name</th>\n",
       "      <th>_dlt_load_id</th>\n",
       "      <th>_dlt_id</th>\n",
       "      <th>store_and_forward</th>\n",
       "    </tr>\n",
       "  </thead>\n",
       "  <tbody>\n",
       "    <tr>\n",
       "      <th>0</th>\n",
       "      <td>40.742963</td>\n",
       "      <td>-73.980072</td>\n",
       "      <td>45.0</td>\n",
       "      <td>1</td>\n",
       "      <td>Credit</td>\n",
       "      <td>40.641525</td>\n",
       "      <td>-73.787442</td>\n",
       "      <td>9.0</td>\n",
       "      <td>4.15</td>\n",
       "      <td>58.15</td>\n",
       "      <td>17.52</td>\n",
       "      <td>2009-06-14 23:48:00+00:00</td>\n",
       "      <td>2009-06-14 23:23:00+00:00</td>\n",
       "      <td>0.0</td>\n",
       "      <td>VTS</td>\n",
       "      <td>1739644918.52758</td>\n",
       "      <td>k4q4FQ0wJ3EBmQ</td>\n",
       "      <td>NaN</td>\n",
       "    </tr>\n",
       "    <tr>\n",
       "      <th>1</th>\n",
       "      <td>40.740187</td>\n",
       "      <td>-74.005698</td>\n",
       "      <td>6.5</td>\n",
       "      <td>1</td>\n",
       "      <td>Credit</td>\n",
       "      <td>40.722065</td>\n",
       "      <td>-74.009767</td>\n",
       "      <td>1.0</td>\n",
       "      <td>0.00</td>\n",
       "      <td>8.50</td>\n",
       "      <td>1.56</td>\n",
       "      <td>2009-06-18 17:43:00+00:00</td>\n",
       "      <td>2009-06-18 17:35:00+00:00</td>\n",
       "      <td>1.0</td>\n",
       "      <td>VTS</td>\n",
       "      <td>1739644918.52758</td>\n",
       "      <td>Nq1d5rsq61LvVA</td>\n",
       "      <td>NaN</td>\n",
       "    </tr>\n",
       "    <tr>\n",
       "      <th>2</th>\n",
       "      <td>40.718043</td>\n",
       "      <td>-74.004745</td>\n",
       "      <td>12.5</td>\n",
       "      <td>5</td>\n",
       "      <td>Credit</td>\n",
       "      <td>40.761945</td>\n",
       "      <td>-73.983038</td>\n",
       "      <td>2.0</td>\n",
       "      <td>0.00</td>\n",
       "      <td>15.50</td>\n",
       "      <td>3.37</td>\n",
       "      <td>2009-06-10 18:27:00+00:00</td>\n",
       "      <td>2009-06-10 18:08:00+00:00</td>\n",
       "      <td>1.0</td>\n",
       "      <td>VTS</td>\n",
       "      <td>1739644918.52758</td>\n",
       "      <td>pb2iBZDi7NVvaA</td>\n",
       "      <td>NaN</td>\n",
       "    </tr>\n",
       "    <tr>\n",
       "      <th>3</th>\n",
       "      <td>40.739637</td>\n",
       "      <td>-73.985233</td>\n",
       "      <td>4.9</td>\n",
       "      <td>1</td>\n",
       "      <td>CASH</td>\n",
       "      <td>40.749802</td>\n",
       "      <td>-73.992247</td>\n",
       "      <td>0.0</td>\n",
       "      <td>0.00</td>\n",
       "      <td>5.40</td>\n",
       "      <td>1.11</td>\n",
       "      <td>2009-06-14 23:58:00+00:00</td>\n",
       "      <td>2009-06-14 23:54:00+00:00</td>\n",
       "      <td>0.5</td>\n",
       "      <td>VTS</td>\n",
       "      <td>1739644918.52758</td>\n",
       "      <td>v9DJD+KkI5Ijng</td>\n",
       "      <td>NaN</td>\n",
       "    </tr>\n",
       "    <tr>\n",
       "      <th>4</th>\n",
       "      <td>40.730032</td>\n",
       "      <td>-73.852693</td>\n",
       "      <td>25.7</td>\n",
       "      <td>1</td>\n",
       "      <td>CASH</td>\n",
       "      <td>40.776825</td>\n",
       "      <td>-73.949233</td>\n",
       "      <td>0.0</td>\n",
       "      <td>4.15</td>\n",
       "      <td>29.85</td>\n",
       "      <td>11.09</td>\n",
       "      <td>2009-06-13 13:23:00+00:00</td>\n",
       "      <td>2009-06-13 13:01:00+00:00</td>\n",
       "      <td>0.0</td>\n",
       "      <td>VTS</td>\n",
       "      <td>1739644918.52758</td>\n",
       "      <td>CboWfeNjW6SuAQ</td>\n",
       "      <td>NaN</td>\n",
       "    </tr>\n",
       "  </tbody>\n",
       "</table>\n",
       "</div>"
      ],
      "text/plain": [
       "     end_lat    end_lon  fare_amt  passenger_count payment_type  start_lat  \\\n",
       "0  40.742963 -73.980072      45.0                1       Credit  40.641525   \n",
       "1  40.740187 -74.005698       6.5                1       Credit  40.722065   \n",
       "2  40.718043 -74.004745      12.5                5       Credit  40.761945   \n",
       "3  40.739637 -73.985233       4.9                1         CASH  40.749802   \n",
       "4  40.730032 -73.852693      25.7                1         CASH  40.776825   \n",
       "\n",
       "   start_lon  tip_amt  tolls_amt  total_amt  trip_distance  \\\n",
       "0 -73.787442      9.0       4.15      58.15          17.52   \n",
       "1 -74.009767      1.0       0.00       8.50           1.56   \n",
       "2 -73.983038      2.0       0.00      15.50           3.37   \n",
       "3 -73.992247      0.0       0.00       5.40           1.11   \n",
       "4 -73.949233      0.0       4.15      29.85          11.09   \n",
       "\n",
       "     trip_dropoff_date_time     trip_pickup_date_time  surcharge vendor_name  \\\n",
       "0 2009-06-14 23:48:00+00:00 2009-06-14 23:23:00+00:00        0.0         VTS   \n",
       "1 2009-06-18 17:43:00+00:00 2009-06-18 17:35:00+00:00        1.0         VTS   \n",
       "2 2009-06-10 18:27:00+00:00 2009-06-10 18:08:00+00:00        1.0         VTS   \n",
       "3 2009-06-14 23:58:00+00:00 2009-06-14 23:54:00+00:00        0.5         VTS   \n",
       "4 2009-06-13 13:23:00+00:00 2009-06-13 13:01:00+00:00        0.0         VTS   \n",
       "\n",
       "       _dlt_load_id         _dlt_id  store_and_forward  \n",
       "0  1739644918.52758  k4q4FQ0wJ3EBmQ                NaN  \n",
       "1  1739644918.52758  Nq1d5rsq61LvVA                NaN  \n",
       "2  1739644918.52758  pb2iBZDi7NVvaA                NaN  \n",
       "3  1739644918.52758  v9DJD+KkI5Ijng                NaN  \n",
       "4  1739644918.52758  CboWfeNjW6SuAQ                NaN  "
      ]
     },
     "execution_count": 7,
     "metadata": {},
     "output_type": "execute_result"
    }
   ],
   "source": [
    "df = pipeline.dataset(dataset_type=\"default\").rides.df()\n",
    "df.head()"
   ]
  },
  {
   "cell_type": "code",
   "execution_count": 8,
   "id": "4765d445-0ab5-4ce3-a907-3d053cef6655",
   "metadata": {},
   "outputs": [
    {
     "data": {
      "text/plain": [
       "(10000, 18)"
      ]
     },
     "execution_count": 8,
     "metadata": {},
     "output_type": "execute_result"
    }
   ],
   "source": [
    "df.shape"
   ]
  },
  {
   "cell_type": "code",
   "execution_count": 9,
   "id": "7eb60a46-6d64-4094-a306-621ebdc2b017",
   "metadata": {},
   "outputs": [
    {
     "data": {
      "text/plain": [
       "10000"
      ]
     },
     "execution_count": 9,
     "metadata": {},
     "output_type": "execute_result"
    }
   ],
   "source": [
    "len(df)"
   ]
  },
  {
   "cell_type": "code",
   "execution_count": 10,
   "id": "7110adbc-5e08-47a1-b559-32a4924306ff",
   "metadata": {},
   "outputs": [
    {
     "name": "stdout",
     "output_type": "stream",
     "text": [
      "<class 'pandas.core.frame.DataFrame'>\n",
      "RangeIndex: 10000 entries, 0 to 9999\n",
      "Data columns (total 18 columns):\n",
      " #   Column                  Non-Null Count  Dtype              \n",
      "---  ------                  --------------  -----              \n",
      " 0   end_lat                 10000 non-null  float64            \n",
      " 1   end_lon                 10000 non-null  float64            \n",
      " 2   fare_amt                10000 non-null  float64            \n",
      " 3   passenger_count         10000 non-null  int64              \n",
      " 4   payment_type            10000 non-null  object             \n",
      " 5   start_lat               10000 non-null  float64            \n",
      " 6   start_lon               10000 non-null  float64            \n",
      " 7   tip_amt                 10000 non-null  float64            \n",
      " 8   tolls_amt               10000 non-null  float64            \n",
      " 9   total_amt               10000 non-null  float64            \n",
      " 10  trip_distance           10000 non-null  float64            \n",
      " 11  trip_dropoff_date_time  10000 non-null  datetime64[us, UTC]\n",
      " 12  trip_pickup_date_time   10000 non-null  datetime64[us, UTC]\n",
      " 13  surcharge               10000 non-null  float64            \n",
      " 14  vendor_name             10000 non-null  object             \n",
      " 15  _dlt_load_id            10000 non-null  object             \n",
      " 16  _dlt_id                 10000 non-null  object             \n",
      " 17  store_and_forward       135 non-null    float64            \n",
      "dtypes: datetime64[us, UTC](2), float64(11), int64(1), object(4)\n",
      "memory usage: 1.4+ MB\n"
     ]
    }
   ],
   "source": [
    "df.info()"
   ]
  },
  {
   "cell_type": "markdown",
   "id": "3add0cc0-69e6-4260-be7e-e94442f7261d",
   "metadata": {},
   "source": [
    "## Question 4: Trip Duration Analysis"
   ]
  },
  {
   "cell_type": "code",
   "execution_count": 13,
   "id": "a9d157fb-c3a8-4f7d-87b0-d35cc5bd0855",
   "metadata": {},
   "outputs": [
    {
     "name": "stdout",
     "output_type": "stream",
     "text": [
      "[(12.3049,)]\n"
     ]
    }
   ],
   "source": [
    "with pipeline.sql_client() as client:\n",
    "    res = client.execute_sql(\n",
    "            \"\"\"\n",
    "            SELECT\n",
    "            AVG(date_diff('minute', trip_pickup_date_time, trip_dropoff_date_time))\n",
    "            FROM rides;\n",
    "            \"\"\"\n",
    "        )\n",
    "    # Prints column values of the first row\n",
    "    print(res)"
   ]
  }
 ],
 "metadata": {
  "kernelspec": {
   "display_name": "Python 3 (ipykernel)",
   "language": "python",
   "name": "python3"
  },
  "language_info": {
   "codemirror_mode": {
    "name": "ipython",
    "version": 3
   },
   "file_extension": ".py",
   "mimetype": "text/x-python",
   "name": "python",
   "nbconvert_exporter": "python",
   "pygments_lexer": "ipython3",
   "version": "3.12.3"
  }
 },
 "nbformat": 4,
 "nbformat_minor": 5
}
