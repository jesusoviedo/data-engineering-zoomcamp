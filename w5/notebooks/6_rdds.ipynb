{
 "cells": [
  {
   "cell_type": "code",
   "execution_count": 37,
   "id": "43efdd38-3c1f-4317-89c9-e2b3c49bc001",
   "metadata": {},
   "outputs": [],
   "source": [
    "import pyspark\n",
    "import pandas as pd\n",
    "from pyspark.sql import SparkSession\n",
    "from datetime import datetime\n",
    "from pyspark.sql import types\n",
    "from collections import namedtuple"
   ]
  },
  {
   "cell_type": "code",
   "execution_count": 2,
   "id": "0a121efb-8c3c-446a-9a85-ce9012fd3839",
   "metadata": {},
   "outputs": [
    {
     "name": "stderr",
     "output_type": "stream",
     "text": [
      "25/03/13 16:19:22 WARN Utils: Your hostname, LAPTOP-F5VFQF4J resolves to a loopback address: 127.0.1.1; using 172.26.218.55 instead (on interface eth0)\n",
      "25/03/13 16:19:22 WARN Utils: Set SPARK_LOCAL_IP if you need to bind to another address\n",
      "Setting default log level to \"WARN\".\n",
      "To adjust logging level use sc.setLogLevel(newLevel). For SparkR, use setLogLevel(newLevel).\n",
      "25/03/13 16:19:25 WARN NativeCodeLoader: Unable to load native-hadoop library for your platform... using builtin-java classes where applicable\n",
      "25/03/13 16:19:28 WARN Utils: Service 'SparkUI' could not bind on port 4040. Attempting port 4041.\n",
      "25/03/13 16:19:28 WARN Utils: Service 'SparkUI' could not bind on port 4041. Attempting port 4042.\n"
     ]
    }
   ],
   "source": [
    "spark = SparkSession.builder \\\n",
    "    .master(\"local[*]\") \\\n",
    "    .appName('test') \\\n",
    "    .getOrCreate()"
   ]
  },
  {
   "cell_type": "code",
   "execution_count": 4,
   "id": "674225be-efbc-40fb-939d-dd2f1ade292b",
   "metadata": {},
   "outputs": [
    {
     "name": "stderr",
     "output_type": "stream",
     "text": [
      "                                                                                "
     ]
    }
   ],
   "source": [
    "df_green = spark.read.parquet('../tmp/data/pq/green/*/*')"
   ]
  },
  {
   "cell_type": "markdown",
   "id": "57fcf040-cd6b-41fa-84f6-ff7841297187",
   "metadata": {},
   "source": [
    "Usando RDDS vamos a recrear el resultado de este SQL:\n",
    "\n",
    "```sql\n",
    "SELECT \n",
    "    date_trunc('hour', lpep_pickup_datetime) AS hour, \n",
    "    PULocationID AS zone,\n",
    "\n",
    "    SUM(total_amount) AS amount,\n",
    "    COUNT(1) AS number_records\n",
    "FROM\n",
    "    green\n",
    "WHERE\n",
    "    lpep_pickup_datetime >= '2020-01-01 00:00:00'\n",
    "GROUP BY\n",
    "    1, 2\n",
    "```"
   ]
  },
  {
   "cell_type": "code",
   "execution_count": 5,
   "id": "8718bff6-f08b-4d0f-bf47-c5cc581a8c96",
   "metadata": {},
   "outputs": [],
   "source": [
    "rdd = df_green \\\n",
    "    .select('lpep_pickup_datetime', 'PULocationID', 'total_amount') \\\n",
    "    .rdd"
   ]
  },
  {
   "cell_type": "code",
   "execution_count": 8,
   "id": "ee160e92-8335-46a8-8e76-f9d364f2dce9",
   "metadata": {},
   "outputs": [
    {
     "name": "stderr",
     "output_type": "stream",
     "text": [
      "                                                                                "
     ]
    },
    {
     "data": {
      "text/plain": [
       "[Row(lpep_pickup_datetime=datetime.datetime(2020, 1, 25, 7, 30), PULocationID=35, total_amount=36.14),\n",
       " Row(lpep_pickup_datetime=datetime.datetime(2020, 1, 31, 8, 27, 10), PULocationID=218, total_amount=15.0),\n",
       " Row(lpep_pickup_datetime=datetime.datetime(2020, 1, 19, 9, 45), PULocationID=74, total_amount=8.76),\n",
       " Row(lpep_pickup_datetime=datetime.datetime(2020, 1, 11, 2, 49, 37), PULocationID=243, total_amount=0.0),\n",
       " Row(lpep_pickup_datetime=datetime.datetime(2020, 1, 28, 10, 19), PULocationID=141, total_amount=44.14),\n",
       " Row(lpep_pickup_datetime=datetime.datetime(2020, 1, 31, 18, 0, 49), PULocationID=82, total_amount=13.3),\n",
       " Row(lpep_pickup_datetime=datetime.datetime(2020, 1, 11, 15, 28, 24), PULocationID=74, total_amount=14.43),\n",
       " Row(lpep_pickup_datetime=datetime.datetime(2020, 1, 7, 19, 21, 50), PULocationID=97, total_amount=7.8),\n",
       " Row(lpep_pickup_datetime=datetime.datetime(2020, 1, 9, 15, 20, 15), PULocationID=56, total_amount=9.3),\n",
       " Row(lpep_pickup_datetime=datetime.datetime(2020, 1, 7, 8, 20, 20), PULocationID=74, total_amount=7.3)]"
      ]
     },
     "execution_count": 8,
     "metadata": {},
     "output_type": "execute_result"
    }
   ],
   "source": [
    "rows = rdd.take(10)\n",
    "rows"
   ]
  },
  {
   "cell_type": "code",
   "execution_count": 10,
   "id": "310c5a70-0f75-436a-80df-a92327584d72",
   "metadata": {},
   "outputs": [
    {
     "data": {
      "text/plain": [
       "Row(lpep_pickup_datetime=datetime.datetime(2020, 1, 25, 7, 30), PULocationID=35, total_amount=36.14)"
      ]
     },
     "execution_count": 10,
     "metadata": {},
     "output_type": "execute_result"
    }
   ],
   "source": [
    "row = rows[0]\n",
    "row"
   ]
  },
  {
   "cell_type": "code",
   "execution_count": 17,
   "id": "1337538d-ab1f-40af-a9c9-7e144ba6b409",
   "metadata": {},
   "outputs": [],
   "source": [
    "start = datetime(year=2020, month=1, day=1)\n",
    "\n",
    "def filter_outliers(row):\n",
    "    return row.lpep_pickup_datetime >= start"
   ]
  },
  {
   "cell_type": "code",
   "execution_count": 18,
   "id": "f123415b-8183-4866-9c0f-800f24ff4550",
   "metadata": {
    "scrolled": true
   },
   "outputs": [
    {
     "data": {
      "text/plain": [
       "[Row(lpep_pickup_datetime=datetime.datetime(2020, 1, 25, 7, 30), PULocationID=35, total_amount=36.14),\n",
       " Row(lpep_pickup_datetime=datetime.datetime(2020, 1, 31, 8, 27, 10), PULocationID=218, total_amount=15.0),\n",
       " Row(lpep_pickup_datetime=datetime.datetime(2020, 1, 19, 9, 45), PULocationID=74, total_amount=8.76),\n",
       " Row(lpep_pickup_datetime=datetime.datetime(2020, 1, 11, 2, 49, 37), PULocationID=243, total_amount=0.0),\n",
       " Row(lpep_pickup_datetime=datetime.datetime(2020, 1, 28, 10, 19), PULocationID=141, total_amount=44.14)]"
      ]
     },
     "execution_count": 18,
     "metadata": {},
     "output_type": "execute_result"
    }
   ],
   "source": [
    "df_result = rdd \\\n",
    "    .filter(filter_outliers) \\\n",
    "    .take(5)\n",
    "\n",
    "df_result"
   ]
  },
  {
   "cell_type": "markdown",
   "id": "20d33e99-57ef-45cf-b15c-8a8eafc3e738",
   "metadata": {},
   "source": [
    "----------------------------"
   ]
  },
  {
   "cell_type": "code",
   "execution_count": 20,
   "id": "2ad01dd2-1a9c-4340-b7ee-e0a21cde8c0b",
   "metadata": {},
   "outputs": [],
   "source": [
    "def prepare_for_grouping(row): \n",
    "    hour = row.lpep_pickup_datetime.replace(minute=0, second=0, microsecond=0)\n",
    "    zone = row.PULocationID\n",
    "    key = (hour, zone)\n",
    "    \n",
    "    amount = row.total_amount\n",
    "    count = 1\n",
    "    value = (amount, count)\n",
    "\n",
    "    return (key, value)"
   ]
  },
  {
   "cell_type": "code",
   "execution_count": 21,
   "id": "4eea1327-81d5-4806-b77f-b043588fa18d",
   "metadata": {},
   "outputs": [
    {
     "data": {
      "text/plain": [
       "[((datetime.datetime(2020, 1, 25, 7, 0), 35), (36.14, 1)),\n",
       " ((datetime.datetime(2020, 1, 31, 8, 0), 218), (15.0, 1)),\n",
       " ((datetime.datetime(2020, 1, 19, 9, 0), 74), (8.76, 1)),\n",
       " ((datetime.datetime(2020, 1, 11, 2, 0), 243), (0.0, 1)),\n",
       " ((datetime.datetime(2020, 1, 28, 10, 0), 141), (44.14, 1))]"
      ]
     },
     "execution_count": 21,
     "metadata": {},
     "output_type": "execute_result"
    }
   ],
   "source": [
    "df_result = rdd \\\n",
    "    .filter(filter_outliers) \\\n",
    "    .map(prepare_for_grouping) \\\n",
    "    .take(5)\n",
    "\n",
    "df_result"
   ]
  },
  {
   "cell_type": "markdown",
   "id": "f3f01d58-cb30-44c5-8976-921de19d3bb3",
   "metadata": {},
   "source": [
    "-----------------------"
   ]
  },
  {
   "cell_type": "code",
   "execution_count": 23,
   "id": "52fa66f2-9a9f-4955-8afa-8627633e1f20",
   "metadata": {},
   "outputs": [],
   "source": [
    "def calculate_revenue(left_value, right_value):\n",
    "    left_amount, left_count = left_value\n",
    "    right_amount, right_count = right_value\n",
    "    \n",
    "    output_amount = left_amount + right_amount\n",
    "    output_count = left_count + right_count\n",
    "    \n",
    "    return (output_amount, output_count)"
   ]
  },
  {
   "cell_type": "code",
   "execution_count": 24,
   "id": "0bb7b9b4-034f-4d9b-9fa2-06c4a51e98de",
   "metadata": {},
   "outputs": [
    {
     "name": "stderr",
     "output_type": "stream",
     "text": [
      "                                                                                "
     ]
    },
    {
     "data": {
      "text/plain": [
       "[((datetime.datetime(2020, 1, 31, 8, 0), 218), (15.0, 1)),\n",
       " ((datetime.datetime(2020, 1, 7, 8, 0), 74), (1497.259999999998, 104)),\n",
       " ((datetime.datetime(2020, 1, 31, 17, 0), 223), (228.9, 20)),\n",
       " ((datetime.datetime(2020, 1, 9, 23, 0), 62), (82.89999999999999, 4)),\n",
       " ((datetime.datetime(2020, 1, 13, 11, 0), 168), (238.51, 5))]"
      ]
     },
     "execution_count": 24,
     "metadata": {},
     "output_type": "execute_result"
    }
   ],
   "source": [
    "df_result = rdd \\\n",
    "    .filter(filter_outliers) \\\n",
    "    .map(prepare_for_grouping) \\\n",
    "    .reduceByKey(calculate_revenue) \\\n",
    "    .take(5)\n",
    "\n",
    "df_result"
   ]
  },
  {
   "cell_type": "markdown",
   "id": "38677c35-ff4c-4cd2-b696-0c35786afbb9",
   "metadata": {},
   "source": [
    "------------------------------------"
   ]
  },
  {
   "cell_type": "code",
   "execution_count": 28,
   "id": "f30b177c-bc7b-48a1-a6db-21af2f5d2b89",
   "metadata": {},
   "outputs": [],
   "source": [
    "RevenueRow = namedtuple('RevenueFila', ['hour', 'zone', 'revenue', 'count'])"
   ]
  },
  {
   "cell_type": "code",
   "execution_count": 29,
   "id": "ec6ddf07-fb39-4a85-bcf4-58db515e163e",
   "metadata": {},
   "outputs": [
    {
     "data": {
      "text/plain": [
       "RevenueFila(hour=datetime.datetime(2020, 2, 3, 15, 0), zone=15, revenue=1500, count=375)"
      ]
     },
     "execution_count": 29,
     "metadata": {},
     "output_type": "execute_result"
    }
   ],
   "source": [
    "RevenueRow(hour=datetime(year=2020, month=2, day=3, hour=15), zone=15, revenue=1500, count=375)"
   ]
  },
  {
   "cell_type": "code",
   "execution_count": 30,
   "id": "5b9c54d2-e057-4fa5-96db-94883e848d96",
   "metadata": {},
   "outputs": [],
   "source": [
    "def unwrap(row):\n",
    "    return RevenueRow(\n",
    "        hour=row[0][0], \n",
    "        zone=row[0][1],\n",
    "        revenue=row[1][0],\n",
    "        count=row[1][1]\n",
    "    )"
   ]
  },
  {
   "cell_type": "code",
   "execution_count": 31,
   "id": "8016d1eb-e9ca-4189-950e-cd7bb8a8b217",
   "metadata": {},
   "outputs": [
    {
     "name": "stderr",
     "output_type": "stream",
     "text": [
      "                                                                                "
     ]
    },
    {
     "data": {
      "text/plain": [
       "[RevenueFila(hour=datetime.datetime(2020, 1, 31, 8, 0), zone=218, revenue=15.0, count=1),\n",
       " RevenueFila(hour=datetime.datetime(2020, 1, 7, 8, 0), zone=74, revenue=1497.259999999998, count=104),\n",
       " RevenueFila(hour=datetime.datetime(2020, 1, 31, 17, 0), zone=223, revenue=228.9, count=20),\n",
       " RevenueFila(hour=datetime.datetime(2020, 1, 9, 23, 0), zone=62, revenue=82.89999999999999, count=4),\n",
       " RevenueFila(hour=datetime.datetime(2020, 1, 13, 11, 0), zone=168, revenue=238.51, count=5)]"
      ]
     },
     "execution_count": 31,
     "metadata": {},
     "output_type": "execute_result"
    }
   ],
   "source": [
    "df_result = rdd \\\n",
    "    .filter(filter_outliers) \\\n",
    "    .map(prepare_for_grouping) \\\n",
    "    .reduceByKey(calculate_revenue) \\\n",
    "    .map(unwrap) \\\n",
    "    .take(5)\n",
    "\n",
    "df_result"
   ]
  },
  {
   "cell_type": "markdown",
   "id": "83e1acae-311a-41d3-8531-99b19d71a8e0",
   "metadata": {},
   "source": [
    "------------------------------------"
   ]
  },
  {
   "cell_type": "code",
   "execution_count": 33,
   "id": "4855f519-bb7f-431b-abb7-3209223ada3b",
   "metadata": {},
   "outputs": [],
   "source": [
    "result_schema = types.StructType([\n",
    "    types.StructField('hour', types.TimestampType(), True),\n",
    "    types.StructField('zone', types.IntegerType(), True),\n",
    "    types.StructField('revenue', types.DoubleType(), True),\n",
    "    types.StructField('count', types.IntegerType(), True)\n",
    "])"
   ]
  },
  {
   "cell_type": "code",
   "execution_count": 34,
   "id": "b3109f61-8d6d-409b-9e27-a277771883a1",
   "metadata": {},
   "outputs": [],
   "source": [
    "df_result = rdd \\\n",
    "    .filter(filter_outliers) \\\n",
    "    .map(prepare_for_grouping) \\\n",
    "    .reduceByKey(calculate_revenue) \\\n",
    "    .map(unwrap) \\\n",
    "    .toDF(result_schema)"
   ]
  },
  {
   "cell_type": "code",
   "execution_count": 35,
   "id": "177f427f-ea49-4d27-98a8-f500ca115470",
   "metadata": {},
   "outputs": [
    {
     "name": "stderr",
     "output_type": "stream",
     "text": [
      "25/03/13 17:13:27 WARN MemoryManager: Total allocation exceeds 95.00% (1,020,054,720 bytes) of heap memory\n",
      "Scaling row group sizes to 95.00% for 8 writers\n",
      "                                                                                "
     ]
    }
   ],
   "source": [
    "df_result.write.parquet('../tmp/data/green-revenue')"
   ]
  },
  {
   "cell_type": "markdown",
   "id": "7429ed12-020f-4783-810e-299cb5fd7963",
   "metadata": {},
   "source": [
    "------------------------------------------"
   ]
  },
  {
   "cell_type": "code",
   "execution_count": 39,
   "id": "ca34bcb2-b6a7-4266-bc3f-2f9f06746074",
   "metadata": {},
   "outputs": [],
   "source": [
    "duration_rdd = df_green \\\n",
    "    .select(columns) \\\n",
    "    .rdd"
   ]
  },
  {
   "cell_type": "code",
   "execution_count": 40,
   "id": "4e94ca6a-4f3d-4a14-8ea1-b74896488464",
   "metadata": {},
   "outputs": [
    {
     "data": {
      "text/plain": [
       "[Row(VendorID=None, lpep_pickup_datetime=datetime.datetime(2020, 1, 25, 7, 30), PULocationID=35, DOLocationID=93, trip_distance=9.84),\n",
       " Row(VendorID=1, lpep_pickup_datetime=datetime.datetime(2020, 1, 31, 8, 27, 10), PULocationID=218, DOLocationID=130, trip_distance=0.0),\n",
       " Row(VendorID=2, lpep_pickup_datetime=datetime.datetime(2020, 1, 19, 9, 45), PULocationID=74, DOLocationID=75, trip_distance=1.47),\n",
       " Row(VendorID=1, lpep_pickup_datetime=datetime.datetime(2020, 1, 11, 2, 49, 37), PULocationID=243, DOLocationID=119, trip_distance=1.2),\n",
       " Row(VendorID=None, lpep_pickup_datetime=datetime.datetime(2020, 1, 28, 10, 19), PULocationID=141, DOLocationID=91, trip_distance=15.58),\n",
       " Row(VendorID=2, lpep_pickup_datetime=datetime.datetime(2020, 1, 31, 18, 0, 49), PULocationID=82, DOLocationID=82, trip_distance=1.36),\n",
       " Row(VendorID=2, lpep_pickup_datetime=datetime.datetime(2020, 1, 11, 15, 28, 24), PULocationID=74, DOLocationID=236, trip_distance=1.99),\n",
       " Row(VendorID=2, lpep_pickup_datetime=datetime.datetime(2020, 1, 7, 19, 21, 50), PULocationID=97, DOLocationID=97, trip_distance=0.96),\n",
       " Row(VendorID=2, lpep_pickup_datetime=datetime.datetime(2020, 1, 9, 15, 20, 15), PULocationID=56, DOLocationID=82, trip_distance=1.22),\n",
       " Row(VendorID=1, lpep_pickup_datetime=datetime.datetime(2020, 1, 7, 8, 20, 20), PULocationID=74, DOLocationID=75, trip_distance=0.8)]"
      ]
     },
     "execution_count": 40,
     "metadata": {},
     "output_type": "execute_result"
    }
   ],
   "source": [
    "rows = duration_rdd.take(10)\n",
    "rows"
   ]
  },
  {
   "cell_type": "code",
   "execution_count": 44,
   "id": "e14dff39-3a06-4ae8-9e6b-444cf953ba7e",
   "metadata": {},
   "outputs": [
    {
     "data": {
      "text/html": [
       "<div>\n",
       "<style scoped>\n",
       "    .dataframe tbody tr th:only-of-type {\n",
       "        vertical-align: middle;\n",
       "    }\n",
       "\n",
       "    .dataframe tbody tr th {\n",
       "        vertical-align: top;\n",
       "    }\n",
       "\n",
       "    .dataframe thead th {\n",
       "        text-align: right;\n",
       "    }\n",
       "</style>\n",
       "<table border=\"1\" class=\"dataframe\">\n",
       "  <thead>\n",
       "    <tr style=\"text-align: right;\">\n",
       "      <th></th>\n",
       "      <th>VendorID</th>\n",
       "      <th>lpep_pickup_datetime</th>\n",
       "      <th>PULocationID</th>\n",
       "      <th>DOLocationID</th>\n",
       "      <th>trip_distance</th>\n",
       "    </tr>\n",
       "  </thead>\n",
       "  <tbody>\n",
       "    <tr>\n",
       "      <th>0</th>\n",
       "      <td>NaN</td>\n",
       "      <td>2020-01-25 07:30:00</td>\n",
       "      <td>35</td>\n",
       "      <td>93</td>\n",
       "      <td>9.84</td>\n",
       "    </tr>\n",
       "    <tr>\n",
       "      <th>1</th>\n",
       "      <td>1.0</td>\n",
       "      <td>2020-01-31 08:27:10</td>\n",
       "      <td>218</td>\n",
       "      <td>130</td>\n",
       "      <td>0.00</td>\n",
       "    </tr>\n",
       "    <tr>\n",
       "      <th>2</th>\n",
       "      <td>2.0</td>\n",
       "      <td>2020-01-19 09:45:00</td>\n",
       "      <td>74</td>\n",
       "      <td>75</td>\n",
       "      <td>1.47</td>\n",
       "    </tr>\n",
       "    <tr>\n",
       "      <th>3</th>\n",
       "      <td>1.0</td>\n",
       "      <td>2020-01-11 02:49:37</td>\n",
       "      <td>243</td>\n",
       "      <td>119</td>\n",
       "      <td>1.20</td>\n",
       "    </tr>\n",
       "    <tr>\n",
       "      <th>4</th>\n",
       "      <td>NaN</td>\n",
       "      <td>2020-01-28 10:19:00</td>\n",
       "      <td>141</td>\n",
       "      <td>91</td>\n",
       "      <td>15.58</td>\n",
       "    </tr>\n",
       "  </tbody>\n",
       "</table>\n",
       "</div>"
      ],
      "text/plain": [
       "   VendorID lpep_pickup_datetime  PULocationID  DOLocationID  trip_distance\n",
       "0       NaN  2020-01-25 07:30:00            35            93           9.84\n",
       "1       1.0  2020-01-31 08:27:10           218           130           0.00\n",
       "2       2.0  2020-01-19 09:45:00            74            75           1.47\n",
       "3       1.0  2020-01-11 02:49:37           243           119           1.20\n",
       "4       NaN  2020-01-28 10:19:00           141            91          15.58"
      ]
     },
     "execution_count": 44,
     "metadata": {},
     "output_type": "execute_result"
    }
   ],
   "source": [
    "columns = ['VendorID', 'lpep_pickup_datetime', 'PULocationID', 'DOLocationID', 'trip_distance']\n",
    "\n",
    "df = pd.DataFrame(rows, columns=columns)\n",
    "df.head()"
   ]
  },
  {
   "cell_type": "code",
   "execution_count": 45,
   "id": "89b74b05-25db-4908-a6ac-33410a465ba2",
   "metadata": {},
   "outputs": [],
   "source": [
    "#model = ...\n",
    "\n",
    "def model_predict(df):\n",
    "#     y_pred = model.predict(df)\n",
    "    y_pred = df.trip_distance * 5\n",
    "    return y_pred"
   ]
  },
  {
   "cell_type": "code",
   "execution_count": 46,
   "id": "4f5402be-9805-4251-b8ac-80b477e1bc40",
   "metadata": {},
   "outputs": [],
   "source": [
    "def apply_model_in_batch(rows):\n",
    "    df = pd.DataFrame(rows, columns=columns)\n",
    "    predictions = model_predict(df)\n",
    "    df['predicted_duration'] = predictions\n",
    "\n",
    "    for row in df.itertuples():\n",
    "        yield row"
   ]
  },
  {
   "cell_type": "code",
   "execution_count": 47,
   "id": "376fff59-751c-4d72-8910-f3a9dbc5f3e4",
   "metadata": {},
   "outputs": [
    {
     "name": "stderr",
     "output_type": "stream",
     "text": [
      "                                                                                "
     ]
    }
   ],
   "source": [
    "df_predicts = duration_rdd \\\n",
    "    .mapPartitions(apply_model_in_batch)\\\n",
    "    .toDF() \\\n",
    "    .drop('Index')"
   ]
  },
  {
   "cell_type": "code",
   "execution_count": 50,
   "id": "75252b7e-2f8d-40d3-94a8-a8f81b08bc5a",
   "metadata": {},
   "outputs": [
    {
     "name": "stderr",
     "output_type": "stream",
     "text": [
      "[Stage 21:>                                                         (0 + 1) / 1]"
     ]
    },
    {
     "name": "stdout",
     "output_type": "stream",
     "text": [
      "+-------------+------------------+\n",
      "|trip_distance|predicted_duration|\n",
      "+-------------+------------------+\n",
      "|         9.84|              49.2|\n",
      "|          0.0|               0.0|\n",
      "|         1.47|              7.35|\n",
      "|          1.2|               6.0|\n",
      "|        15.58|              77.9|\n",
      "|         1.36| 6.800000000000001|\n",
      "|         1.99|              9.95|\n",
      "|         0.96|               4.8|\n",
      "|         1.22|               6.1|\n",
      "|          0.8|               4.0|\n",
      "|         4.64|              23.2|\n",
      "|         2.39|11.950000000000001|\n",
      "|        13.88|              69.4|\n",
      "|         1.47|              7.35|\n",
      "|         0.55|              2.75|\n",
      "|         7.84|              39.2|\n",
      "|         1.36| 6.800000000000001|\n",
      "|         1.17|              5.85|\n",
      "|          1.4|               7.0|\n",
      "|         6.14|              30.7|\n",
      "+-------------+------------------+\n",
      "only showing top 20 rows\n",
      "\n"
     ]
    },
    {
     "name": "stderr",
     "output_type": "stream",
     "text": [
      "                                                                                "
     ]
    }
   ],
   "source": [
    "df_predicts\\\n",
    "    .select('trip_distance','predicted_duration') \\\n",
    "    .show()"
   ]
  }
 ],
 "metadata": {
  "kernelspec": {
   "display_name": "Python 3 (ipykernel)",
   "language": "python",
   "name": "python3"
  },
  "language_info": {
   "codemirror_mode": {
    "name": "ipython",
    "version": 3
   },
   "file_extension": ".py",
   "mimetype": "text/x-python",
   "name": "python",
   "nbconvert_exporter": "python",
   "pygments_lexer": "ipython3",
   "version": "3.12.9"
  }
 },
 "nbformat": 4,
 "nbformat_minor": 5
}
