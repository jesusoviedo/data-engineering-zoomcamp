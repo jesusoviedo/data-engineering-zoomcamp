{
 "cells": [
  {
   "cell_type": "code",
   "execution_count": 1,
   "id": "c9892022-7dd1-431e-abce-b9ad2df84c3c",
   "metadata": {},
   "outputs": [],
   "source": [
    "import pyspark\n",
    "import pandas as pd\n",
    "from pyspark.sql import SparkSession\n",
    "from pyspark.sql import types"
   ]
  },
  {
   "cell_type": "code",
   "execution_count": 2,
   "id": "5d7c4cad-5aaa-46ac-9457-f711b7335856",
   "metadata": {},
   "outputs": [
    {
     "name": "stderr",
     "output_type": "stream",
     "text": [
      "25/03/05 20:32:38 WARN Utils: Your hostname, LAPTOP-F5VFQF4J resolves to a loopback address: 127.0.1.1; using 172.26.218.55 instead (on interface eth0)\n",
      "25/03/05 20:32:38 WARN Utils: Set SPARK_LOCAL_IP if you need to bind to another address\n",
      "Setting default log level to \"WARN\".\n",
      "To adjust logging level use sc.setLogLevel(newLevel). For SparkR, use setLogLevel(newLevel).\n",
      "25/03/05 20:32:40 WARN NativeCodeLoader: Unable to load native-hadoop library for your platform... using builtin-java classes where applicable\n",
      "25/03/05 20:32:41 WARN Utils: Service 'SparkUI' could not bind on port 4040. Attempting port 4041.\n",
      "25/03/05 20:32:41 WARN Utils: Service 'SparkUI' could not bind on port 4041. Attempting port 4042.\n"
     ]
    }
   ],
   "source": [
    "spark = SparkSession.builder \\\n",
    "    .master(\"local[*]\") \\\n",
    "    .appName('test') \\\n",
    "    .getOrCreate()"
   ]
  },
  {
   "cell_type": "code",
   "execution_count": 3,
   "id": "a64bf3c6-0659-49b9-adfa-9a5f1c8ae49d",
   "metadata": {},
   "outputs": [],
   "source": [
    "green_schema = types.StructType([\n",
    "    types.StructField(\"VendorID\", types.IntegerType(), True),\n",
    "    types.StructField(\"lpep_pickup_datetime\", types.TimestampType(), True),\n",
    "    types.StructField(\"lpep_dropoff_datetime\", types.TimestampType(), True),\n",
    "    types.StructField(\"store_and_fwd_flag\", types.StringType(), True),\n",
    "    types.StructField(\"RatecodeID\", types.IntegerType(), True),\n",
    "    types.StructField(\"PULocationID\", types.IntegerType(), True),\n",
    "    types.StructField(\"DOLocationID\", types.IntegerType(), True),\n",
    "    types.StructField(\"passenger_count\", types.IntegerType(), True),\n",
    "    types.StructField(\"trip_distance\", types.DoubleType(), True),\n",
    "    types.StructField(\"fare_amount\", types.DoubleType(), True),\n",
    "    types.StructField(\"extra\", types.DoubleType(), True),\n",
    "    types.StructField(\"mta_tax\", types.DoubleType(), True),\n",
    "    types.StructField(\"tip_amount\", types.DoubleType(), True),\n",
    "    types.StructField(\"tolls_amount\", types.DoubleType(), True),\n",
    "    types.StructField(\"ehail_fee\", types.DoubleType(), True),\n",
    "    types.StructField(\"improvement_surcharge\", types.DoubleType(), True),\n",
    "    types.StructField(\"total_amount\", types.DoubleType(), True),\n",
    "    types.StructField(\"payment_type\", types.IntegerType(), True),\n",
    "    types.StructField(\"trip_type\", types.IntegerType(), True),\n",
    "    types.StructField(\"congestion_surcharge\", types.DoubleType(), True)\n",
    "])\n",
    "\n",
    "yellow_schema = types.StructType([\n",
    "    types.StructField(\"VendorID\", types.IntegerType(), True),\n",
    "    types.StructField(\"tpep_pickup_datetime\", types.TimestampType(), True),\n",
    "    types.StructField(\"tpep_dropoff_datetime\", types.TimestampType(), True),\n",
    "    types.StructField(\"passenger_count\", types.IntegerType(), True),\n",
    "    types.StructField(\"trip_distance\", types.DoubleType(), True),\n",
    "    types.StructField(\"RatecodeID\", types.IntegerType(), True),\n",
    "    types.StructField(\"store_and_fwd_flag\", types.StringType(), True),\n",
    "    types.StructField(\"PULocationID\", types.IntegerType(), True),\n",
    "    types.StructField(\"DOLocationID\", types.IntegerType(), True),\n",
    "    types.StructField(\"payment_type\", types.IntegerType(), True),\n",
    "    types.StructField(\"fare_amount\", types.DoubleType(), True),\n",
    "    types.StructField(\"extra\", types.DoubleType(), True),\n",
    "    types.StructField(\"mta_tax\", types.DoubleType(), True),\n",
    "    types.StructField(\"tip_amount\", types.DoubleType(), True),\n",
    "    types.StructField(\"tolls_amount\", types.DoubleType(), True),\n",
    "    types.StructField(\"improvement_surcharge\", types.DoubleType(), True),\n",
    "    types.StructField(\"total_amount\", types.DoubleType(), True),\n",
    "    types.StructField(\"congestion_surcharge\", types.DoubleType(), True)\n",
    "])"
   ]
  },
  {
   "cell_type": "code",
   "execution_count": 9,
   "id": "2f47c23a-e90f-45e6-81b3-d37d9837bf24",
   "metadata": {},
   "outputs": [],
   "source": [
    "year_ini = 2020\n",
    "year_fin = 2021\n",
    "tip_taxy = [\"green\", \"yellow\"]"
   ]
  },
  {
   "cell_type": "code",
   "execution_count": 10,
   "id": "25c51c8f-2b5c-4290-86f0-9f30e9fd1437",
   "metadata": {},
   "outputs": [
    {
     "name": "stdout",
     "output_type": "stream",
     "text": [
      "processing data for green 2020/1\n"
     ]
    },
    {
     "name": "stderr",
     "output_type": "stream",
     "text": [
      "                                                                                "
     ]
    },
    {
     "name": "stdout",
     "output_type": "stream",
     "text": [
      "Data processed successfully for 2020/01\n",
      "processing data for green 2020/2\n"
     ]
    },
    {
     "name": "stderr",
     "output_type": "stream",
     "text": [
      "                                                                                "
     ]
    },
    {
     "name": "stdout",
     "output_type": "stream",
     "text": [
      "Data processed successfully for 2020/02\n",
      "processing data for green 2020/3\n"
     ]
    },
    {
     "name": "stderr",
     "output_type": "stream",
     "text": [
      "                                                                                "
     ]
    },
    {
     "name": "stdout",
     "output_type": "stream",
     "text": [
      "Data processed successfully for 2020/03\n",
      "processing data for green 2020/4\n",
      "Data processed successfully for 2020/04\n",
      "processing data for green 2020/5\n",
      "Data processed successfully for 2020/05\n",
      "processing data for green 2020/6\n",
      "Data processed successfully for 2020/06\n",
      "processing data for green 2020/7\n"
     ]
    },
    {
     "name": "stderr",
     "output_type": "stream",
     "text": [
      "                                                                                "
     ]
    },
    {
     "name": "stdout",
     "output_type": "stream",
     "text": [
      "Data processed successfully for 2020/07\n",
      "processing data for green 2020/8\n",
      "Data processed successfully for 2020/08\n",
      "processing data for green 2020/9\n",
      "Data processed successfully for 2020/09\n",
      "processing data for green 2020/10\n",
      "Data processed successfully for 2020/10\n",
      "processing data for green 2020/11\n",
      "Data processed successfully for 2020/11\n",
      "processing data for green 2020/12\n",
      "Data processed successfully for 2020/12\n",
      "processing data for green 2021/1\n",
      "Data processed successfully for 2021/01\n",
      "processing data for green 2021/2\n",
      "Data processed successfully for 2021/02\n",
      "processing data for green 2021/3\n",
      "Data processed successfully for 2021/03\n",
      "processing data for green 2021/4\n",
      "Data processed successfully for 2021/04\n",
      "processing data for green 2021/5\n",
      "Data processed successfully for 2021/05\n",
      "processing data for green 2021/6\n",
      "Data processed successfully for 2021/06\n",
      "processing data for green 2021/7\n",
      "Data processed successfully for 2021/07\n",
      "processing data for green 2021/8\n",
      "Error processing data for green 2021/08: [PATH_NOT_FOUND] Path does not exist: file:/home/joviedo/data-engineering-zoomcamp/w5/tmp/data/raw/green/2021/08.\n",
      "processing data for green 2021/9\n",
      "Error processing data for green 2021/09: [PATH_NOT_FOUND] Path does not exist: file:/home/joviedo/data-engineering-zoomcamp/w5/tmp/data/raw/green/2021/09.\n",
      "processing data for green 2021/10\n",
      "Error processing data for green 2021/10: [PATH_NOT_FOUND] Path does not exist: file:/home/joviedo/data-engineering-zoomcamp/w5/tmp/data/raw/green/2021/10.\n",
      "processing data for green 2021/11\n",
      "Error processing data for green 2021/11: [PATH_NOT_FOUND] Path does not exist: file:/home/joviedo/data-engineering-zoomcamp/w5/tmp/data/raw/green/2021/11.\n",
      "processing data for green 2021/12\n",
      "Error processing data for green 2021/12: [PATH_NOT_FOUND] Path does not exist: file:/home/joviedo/data-engineering-zoomcamp/w5/tmp/data/raw/green/2021/12.\n",
      "processing data for yellow 2020/1\n"
     ]
    },
    {
     "name": "stderr",
     "output_type": "stream",
     "text": [
      "                                                                                "
     ]
    },
    {
     "name": "stdout",
     "output_type": "stream",
     "text": [
      "Data processed successfully for 2020/01\n",
      "processing data for yellow 2020/2\n"
     ]
    },
    {
     "name": "stderr",
     "output_type": "stream",
     "text": [
      "                                                                                "
     ]
    },
    {
     "name": "stdout",
     "output_type": "stream",
     "text": [
      "Data processed successfully for 2020/02\n",
      "processing data for yellow 2020/3\n"
     ]
    },
    {
     "name": "stderr",
     "output_type": "stream",
     "text": [
      "                                                                                "
     ]
    },
    {
     "name": "stdout",
     "output_type": "stream",
     "text": [
      "Data processed successfully for 2020/03\n",
      "processing data for yellow 2020/4\n"
     ]
    },
    {
     "name": "stderr",
     "output_type": "stream",
     "text": [
      "                                                                                "
     ]
    },
    {
     "name": "stdout",
     "output_type": "stream",
     "text": [
      "Data processed successfully for 2020/04\n",
      "processing data for yellow 2020/5\n"
     ]
    },
    {
     "name": "stderr",
     "output_type": "stream",
     "text": [
      "                                                                                "
     ]
    },
    {
     "name": "stdout",
     "output_type": "stream",
     "text": [
      "Data processed successfully for 2020/05\n",
      "processing data for yellow 2020/6\n"
     ]
    },
    {
     "name": "stderr",
     "output_type": "stream",
     "text": [
      "                                                                                "
     ]
    },
    {
     "name": "stdout",
     "output_type": "stream",
     "text": [
      "Data processed successfully for 2020/06\n",
      "processing data for yellow 2020/7\n"
     ]
    },
    {
     "name": "stderr",
     "output_type": "stream",
     "text": [
      "                                                                                "
     ]
    },
    {
     "name": "stdout",
     "output_type": "stream",
     "text": [
      "Data processed successfully for 2020/07\n",
      "processing data for yellow 2020/8\n"
     ]
    },
    {
     "name": "stderr",
     "output_type": "stream",
     "text": [
      "                                                                                "
     ]
    },
    {
     "name": "stdout",
     "output_type": "stream",
     "text": [
      "Data processed successfully for 2020/08\n",
      "processing data for yellow 2020/9\n"
     ]
    },
    {
     "name": "stderr",
     "output_type": "stream",
     "text": [
      "                                                                                "
     ]
    },
    {
     "name": "stdout",
     "output_type": "stream",
     "text": [
      "Data processed successfully for 2020/09\n",
      "processing data for yellow 2020/10\n"
     ]
    },
    {
     "name": "stderr",
     "output_type": "stream",
     "text": [
      "                                                                                "
     ]
    },
    {
     "name": "stdout",
     "output_type": "stream",
     "text": [
      "Data processed successfully for 2020/10\n",
      "processing data for yellow 2020/11\n"
     ]
    },
    {
     "name": "stderr",
     "output_type": "stream",
     "text": [
      "                                                                                "
     ]
    },
    {
     "name": "stdout",
     "output_type": "stream",
     "text": [
      "Data processed successfully for 2020/11\n",
      "processing data for yellow 2020/12\n"
     ]
    },
    {
     "name": "stderr",
     "output_type": "stream",
     "text": [
      "                                                                                "
     ]
    },
    {
     "name": "stdout",
     "output_type": "stream",
     "text": [
      "Data processed successfully for 2020/12\n",
      "processing data for yellow 2021/1\n"
     ]
    },
    {
     "name": "stderr",
     "output_type": "stream",
     "text": [
      "                                                                                "
     ]
    },
    {
     "name": "stdout",
     "output_type": "stream",
     "text": [
      "Data processed successfully for 2021/01\n",
      "processing data for yellow 2021/2\n"
     ]
    },
    {
     "name": "stderr",
     "output_type": "stream",
     "text": [
      "                                                                                "
     ]
    },
    {
     "name": "stdout",
     "output_type": "stream",
     "text": [
      "Data processed successfully for 2021/02\n",
      "processing data for yellow 2021/3\n"
     ]
    },
    {
     "name": "stderr",
     "output_type": "stream",
     "text": [
      "                                                                                "
     ]
    },
    {
     "name": "stdout",
     "output_type": "stream",
     "text": [
      "Data processed successfully for 2021/03\n",
      "processing data for yellow 2021/4\n"
     ]
    },
    {
     "name": "stderr",
     "output_type": "stream",
     "text": [
      "                                                                                "
     ]
    },
    {
     "name": "stdout",
     "output_type": "stream",
     "text": [
      "Data processed successfully for 2021/04\n",
      "processing data for yellow 2021/5\n"
     ]
    },
    {
     "name": "stderr",
     "output_type": "stream",
     "text": [
      "                                                                                "
     ]
    },
    {
     "name": "stdout",
     "output_type": "stream",
     "text": [
      "Data processed successfully for 2021/05\n",
      "processing data for yellow 2021/6\n"
     ]
    },
    {
     "name": "stderr",
     "output_type": "stream",
     "text": [
      "                                                                                "
     ]
    },
    {
     "name": "stdout",
     "output_type": "stream",
     "text": [
      "Data processed successfully for 2021/06\n",
      "processing data for yellow 2021/7\n"
     ]
    },
    {
     "name": "stderr",
     "output_type": "stream",
     "text": [
      "[Stage 341:>                                                        (0 + 4) / 4]"
     ]
    },
    {
     "name": "stdout",
     "output_type": "stream",
     "text": [
      "Data processed successfully for 2021/07\n",
      "processing data for yellow 2021/8\n",
      "Error processing data for yellow 2021/08: [PATH_NOT_FOUND] Path does not exist: file:/home/joviedo/data-engineering-zoomcamp/w5/tmp/data/raw/yellow/2021/08.\n",
      "processing data for yellow 2021/9\n",
      "Error processing data for yellow 2021/09: [PATH_NOT_FOUND] Path does not exist: file:/home/joviedo/data-engineering-zoomcamp/w5/tmp/data/raw/yellow/2021/09.\n",
      "processing data for yellow 2021/10\n",
      "Error processing data for yellow 2021/10: [PATH_NOT_FOUND] Path does not exist: file:/home/joviedo/data-engineering-zoomcamp/w5/tmp/data/raw/yellow/2021/10.\n",
      "processing data for yellow 2021/11\n",
      "Error processing data for yellow 2021/11: [PATH_NOT_FOUND] Path does not exist: file:/home/joviedo/data-engineering-zoomcamp/w5/tmp/data/raw/yellow/2021/11.\n",
      "processing data for yellow 2021/12\n",
      "Error processing data for yellow 2021/12: [PATH_NOT_FOUND] Path does not exist: file:/home/joviedo/data-engineering-zoomcamp/w5/tmp/data/raw/yellow/2021/12.\n"
     ]
    },
    {
     "name": "stderr",
     "output_type": "stream",
     "text": [
      "                                                                                "
     ]
    }
   ],
   "source": [
    "for taxy in tip_taxy:  \n",
    "    for year in range(year_ini, year_fin + 1):    \n",
    "        for month in range(1, 13):\n",
    "            print(f'processing data for {taxy} {year}/{month}')\n",
    "        \n",
    "            input_path = f'../tmp/data/raw/{taxy}/{year}/{month:02d}/'\n",
    "            output_path = f'../tmp/data/pq/{taxy}/{year}/{month:02d}/'\n",
    "            schema = green_schema if taxy == tip_taxy[0] else yellow_schema\n",
    "            \n",
    "            try:\n",
    "                df_trip = spark.read \\\n",
    "                    .option(\"header\", \"true\") \\\n",
    "                    .schema(schema) \\\n",
    "                    .csv(input_path)\n",
    "            \n",
    "                df_trip \\\n",
    "                    .repartition(4) \\\n",
    "                    .write.parquet(output_path)\n",
    "                print(f'Data processed successfully for {taxy} {year}/{month:02d}')\n",
    "    \n",
    "            except Exception as e:\n",
    "                print(f'Error processing data for {taxy} {year}/{month:02d}: {e}')        "
   ]
  }
 ],
 "metadata": {
  "kernelspec": {
   "display_name": "Python 3 (ipykernel)",
   "language": "python",
   "name": "python3"
  },
  "language_info": {
   "codemirror_mode": {
    "name": "ipython",
    "version": 3
   },
   "file_extension": ".py",
   "mimetype": "text/x-python",
   "name": "python",
   "nbconvert_exporter": "python",
   "pygments_lexer": "ipython3",
   "version": "3.12.9"
  }
 },
 "nbformat": 4,
 "nbformat_minor": 5
}
