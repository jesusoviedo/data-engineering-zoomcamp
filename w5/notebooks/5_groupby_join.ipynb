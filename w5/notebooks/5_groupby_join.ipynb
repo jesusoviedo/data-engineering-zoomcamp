{
 "cells": [
  {
   "cell_type": "code",
   "execution_count": 2,
   "id": "b8ebcde3-bc7b-47cb-8176-36efaaf60025",
   "metadata": {},
   "outputs": [],
   "source": [
    "import pyspark\n",
    "from pyspark.sql import SparkSession"
   ]
  },
  {
   "cell_type": "code",
   "execution_count": 3,
   "id": "a6785895-7089-4325-bf3f-f21ed6e24843",
   "metadata": {},
   "outputs": [
    {
     "name": "stderr",
     "output_type": "stream",
     "text": [
      "25/03/13 12:14:06 WARN Utils: Your hostname, LAPTOP-F5VFQF4J resolves to a loopback address: 127.0.1.1; using 172.26.218.55 instead (on interface eth0)\n",
      "25/03/13 12:14:06 WARN Utils: Set SPARK_LOCAL_IP if you need to bind to another address\n",
      "Setting default log level to \"WARN\".\n",
      "To adjust logging level use sc.setLogLevel(newLevel). For SparkR, use setLogLevel(newLevel).\n",
      "25/03/13 12:14:08 WARN NativeCodeLoader: Unable to load native-hadoop library for your platform... using builtin-java classes where applicable\n",
      "25/03/13 12:14:10 WARN Utils: Service 'SparkUI' could not bind on port 4040. Attempting port 4041.\n"
     ]
    }
   ],
   "source": [
    "spark = SparkSession.builder \\\n",
    "    .master(\"local[*]\") \\\n",
    "    .appName('test') \\\n",
    "    .getOrCreate()"
   ]
  },
  {
   "cell_type": "code",
   "execution_count": 4,
   "id": "c6f9760d-f2f5-4571-ba1c-eddbb8ce2a44",
   "metadata": {},
   "outputs": [
    {
     "name": "stderr",
     "output_type": "stream",
     "text": [
      "                                                                                "
     ]
    }
   ],
   "source": [
    "df_green = spark.read.parquet('../tmp/data/pq/green/*/*')\n",
    "df_green.createOrReplaceTempView('green')"
   ]
  },
  {
   "cell_type": "code",
   "execution_count": 7,
   "id": "fef263d4-66b6-4fec-b32a-4bb8666d49fe",
   "metadata": {},
   "outputs": [],
   "source": [
    "df_green_revenue = spark.sql(\"\"\"\n",
    "SELECT \n",
    "    date_trunc('hour', lpep_pickup_datetime) AS hour, \n",
    "    PULocationID AS zone,\n",
    "\n",
    "    SUM(total_amount) AS amount,\n",
    "    COUNT(1) AS number_records\n",
    "FROM\n",
    "    green\n",
    "WHERE\n",
    "    lpep_pickup_datetime >= '2020-01-01 00:00:00'\n",
    "GROUP BY\n",
    "    1, 2\n",
    "\"\"\")"
   ]
  },
  {
   "cell_type": "code",
   "execution_count": 8,
   "id": "0d2e20c9-8f6d-4d76-ac1e-354710fd1b5a",
   "metadata": {},
   "outputs": [
    {
     "name": "stderr",
     "output_type": "stream",
     "text": [
      "25/03/13 12:16:34 WARN MemoryManager: Total allocation exceeds 95.00% (1,020,054,720 bytes) of heap memory\n",
      "Scaling row group sizes to 95.00% for 8 writers\n",
      "25/03/13 12:16:35 WARN MemoryManager: Total allocation exceeds 95.00% (1,020,054,720 bytes) of heap memory\n",
      "Scaling row group sizes to 95.00% for 8 writers\n",
      "                                                                                "
     ]
    }
   ],
   "source": [
    "df_green_revenue \\\n",
    "    .repartition(20) \\\n",
    "    .write.parquet('../tmp/data/report/revenue/green', mode='overwrite')"
   ]
  },
  {
   "cell_type": "code",
   "execution_count": 10,
   "id": "29aee5ca-9620-497b-8d01-c7a3c9ec6f09",
   "metadata": {},
   "outputs": [],
   "source": [
    "df_yellow = spark.read.parquet('../tmp/data/pq/yellow/*/*')\n",
    "df_yellow.createOrReplaceTempView('yellow')"
   ]
  },
  {
   "cell_type": "code",
   "execution_count": 12,
   "id": "c4606e6b-2cb7-46ef-b853-a78e4a713827",
   "metadata": {},
   "outputs": [],
   "source": [
    "df_yellow_revenue = spark.sql(\"\"\"\n",
    "SELECT \n",
    "    date_trunc('hour', tpep_pickup_datetime) AS hour, \n",
    "    PULocationID AS zone,\n",
    "\n",
    "    SUM(total_amount) AS amount,\n",
    "    COUNT(1) AS number_records\n",
    "FROM\n",
    "    yellow\n",
    "WHERE\n",
    "    tpep_pickup_datetime >= '2020-01-01 00:00:00'\n",
    "GROUP BY\n",
    "    1, 2\n",
    "\"\"\")"
   ]
  },
  {
   "cell_type": "code",
   "execution_count": 13,
   "id": "2e9f2387-1dbb-40fe-b14b-3f7152c56bd0",
   "metadata": {},
   "outputs": [
    {
     "name": "stderr",
     "output_type": "stream",
     "text": [
      "25/03/13 12:21:10 WARN MemoryManager: Total allocation exceeds 95.00% (1,020,054,720 bytes) of heap memory\n",
      "Scaling row group sizes to 95.00% for 8 writers\n",
      "25/03/13 12:21:11 WARN MemoryManager: Total allocation exceeds 95.00% (1,020,054,720 bytes) of heap memory\n",
      "Scaling row group sizes to 95.00% for 8 writers\n",
      "                                                                                "
     ]
    }
   ],
   "source": [
    "df_yellow_revenue \\\n",
    "    .repartition(20) \\\n",
    "    .write.parquet('../tmp/data/report/revenue/yellow', mode='overwrite')"
   ]
  },
  {
   "cell_type": "markdown",
   "id": "f0c3c57a-0633-48c4-94dd-1e60387ed5ea",
   "metadata": {},
   "source": [
    "-------------------"
   ]
  },
  {
   "cell_type": "code",
   "execution_count": 14,
   "id": "7af378bd-e1ad-44b4-b911-46c755f348de",
   "metadata": {},
   "outputs": [],
   "source": [
    "df_green_revenue = spark.read.parquet('../tmp/data/report/revenue/green')\n",
    "df_yellow_revenue = spark.read.parquet('../tmp/data/report/revenue/yellow')"
   ]
  },
  {
   "cell_type": "code",
   "execution_count": 15,
   "id": "afdf3d7b-57b2-4dae-9bc4-574da21c163a",
   "metadata": {},
   "outputs": [],
   "source": [
    "df_green_revenue_tmp = df_green_revenue \\\n",
    "    .withColumnRenamed('amount', 'green_amount') \\\n",
    "    .withColumnRenamed('number_records', 'green_number_records')\n",
    "\n",
    "df_yellow_revenue_tmp = df_yellow_revenue \\\n",
    "    .withColumnRenamed('amount', 'yellow_amount') \\\n",
    "    .withColumnRenamed('number_records', 'yellow_number_records')"
   ]
  },
  {
   "cell_type": "code",
   "execution_count": 16,
   "id": "809a7a9d-a85a-4992-8d4d-90f2066d2926",
   "metadata": {},
   "outputs": [],
   "source": [
    "df_join = df_green_revenue_tmp.join(df_yellow_revenue_tmp, on=['hour', 'zone'], how='outer')"
   ]
  },
  {
   "cell_type": "code",
   "execution_count": 17,
   "id": "343eb0cd-f1b9-49e5-943d-9d07ac5844ee",
   "metadata": {},
   "outputs": [
    {
     "name": "stderr",
     "output_type": "stream",
     "text": [
      "25/03/13 12:28:30 WARN MemoryManager: Total allocation exceeds 95.00% (1,020,054,720 bytes) of heap memory\n",
      "Scaling row group sizes to 95.00% for 8 writers\n",
      "                                                                                "
     ]
    }
   ],
   "source": [
    "df_join.write.parquet('../tmp/data/report/revenue/total', mode='overwrite')"
   ]
  },
  {
   "cell_type": "code",
   "execution_count": 18,
   "id": "250a125a-3eba-4629-81a2-f599e001bff6",
   "metadata": {},
   "outputs": [],
   "source": [
    "df_join = spark.read.parquet('../tmp/data/report/revenue/total')"
   ]
  },
  {
   "cell_type": "code",
   "execution_count": 19,
   "id": "86a6c815-de3d-4dd9-b04b-e726c7a740c9",
   "metadata": {},
   "outputs": [
    {
     "data": {
      "text/plain": [
       "DataFrame[hour: timestamp, zone: int, green_amount: double, green_number_records: bigint, yellow_amount: double, yellow_number_records: bigint]"
      ]
     },
     "execution_count": 19,
     "metadata": {},
     "output_type": "execute_result"
    }
   ],
   "source": [
    "df_join"
   ]
  },
  {
   "cell_type": "code",
   "execution_count": 20,
   "id": "78ada075-6077-4551-bc84-1bf51d81a53d",
   "metadata": {},
   "outputs": [],
   "source": [
    "df_zones = spark.read.parquet('../tmp/parquet/zones/')"
   ]
  },
  {
   "cell_type": "code",
   "execution_count": 21,
   "id": "3ec8d5e7-694a-452a-936e-13c0a65eb888",
   "metadata": {},
   "outputs": [],
   "source": [
    "df_result = df_join.join(df_zones, df_join.zone == df_zones.LocationID)"
   ]
  },
  {
   "cell_type": "code",
   "execution_count": 23,
   "id": "73e3beb2-685d-4916-8dbb-b4ef1eaafbd5",
   "metadata": {},
   "outputs": [
    {
     "name": "stderr",
     "output_type": "stream",
     "text": [
      "25/03/13 12:35:05 WARN MemoryManager: Total allocation exceeds 95.00% (1,020,054,720 bytes) of heap memory\n",
      "Scaling row group sizes to 95.00% for 8 writers\n",
      "                                                                                "
     ]
    }
   ],
   "source": [
    "df_result.drop('LocationID', 'zone').write.parquet('../tmp/parquet/revenue-zones')"
   ]
  },
  {
   "cell_type": "code",
   "execution_count": 24,
   "id": "d4bff078-bf5e-4c30-9098-7af49288ca7c",
   "metadata": {},
   "outputs": [
    {
     "name": "stdout",
     "output_type": "stream",
     "text": [
      "+-------------------+------------------+--------------------+------------------+---------------------+---------+------------+\n",
      "|               hour|      green_amount|green_number_records|     yellow_amount|yellow_number_records|  Borough|service_zone|\n",
      "+-------------------+------------------+--------------------+------------------+---------------------+---------+------------+\n",
      "|2020-01-01 00:00:00|              NULL|                NULL|1004.3000000000003|                   57|Manhattan| Yellow Zone|\n",
      "|2020-01-01 00:00:00|              NULL|                NULL|            1214.8|                   56|Manhattan| Yellow Zone|\n",
      "|2020-01-01 00:00:00|              NULL|                NULL| 732.4800000000002|                   42|Manhattan| Yellow Zone|\n",
      "|2020-01-01 00:00:00|50.900000000000006|                   3|              NULL|                 NULL|    Bronx|   Boro Zone|\n",
      "|2020-01-01 00:00:00|              51.9|                   2|              70.8|                    1| Brooklyn|   Boro Zone|\n",
      "|2020-01-01 00:00:00|              23.8|                   1|              NULL|                 NULL| Brooklyn|   Boro Zone|\n",
      "|2020-01-01 00:00:00|             34.46|                   2|              NULL|                 NULL|    Bronx|   Boro Zone|\n",
      "|2020-01-01 00:00:00|              NULL|                NULL|12573.810000000029|                  721|Manhattan| Yellow Zone|\n",
      "|2020-01-01 00:00:00|              94.1|                   7|               9.8|                    1|   Queens|   Boro Zone|\n",
      "|2020-01-01 00:00:00|              NULL|                NULL| 6441.030000000004|                  380|Manhattan| Yellow Zone|\n",
      "+-------------------+------------------+--------------------+------------------+---------------------+---------+------------+\n",
      "only showing top 10 rows\n",
      "\n"
     ]
    }
   ],
   "source": [
    "df_revenue_zones = spark.read.parquet('../tmp/parquet/revenue-zones')\n",
    "df_revenue_zones.show(10)"
   ]
  }
 ],
 "metadata": {
  "kernelspec": {
   "display_name": "Python 3 (ipykernel)",
   "language": "python",
   "name": "python3"
  },
  "language_info": {
   "codemirror_mode": {
    "name": "ipython",
    "version": 3
   },
   "file_extension": ".py",
   "mimetype": "text/x-python",
   "name": "python",
   "nbconvert_exporter": "python",
   "pygments_lexer": "ipython3",
   "version": "3.12.9"
  }
 },
 "nbformat": 4,
 "nbformat_minor": 5
}
